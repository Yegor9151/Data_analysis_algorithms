{
 "cells": [
  {
   "cell_type": "markdown",
   "metadata": {},
   "source": [
    "1. Сгенерировать датасет при помощи `sklearn.datasets.make_regression` и обучить линейную модель при помощи градиентного и стохастического градиентного спуска. Нанести среднеквадратичную ошибку для обоих методов на один график, сделать выводы о разнице скорости сходимости каждого из методов."
   ]
  },
  {
   "cell_type": "code",
   "execution_count": 1,
   "metadata": {},
   "outputs": [],
   "source": [
    "import numpy as np\n",
    "import matplotlib.pyplot as plt\n",
    "from sklearn import datasets\n",
    "\n",
    "%matplotlib inline"
   ]
  },
  {
   "cell_type": "code",
   "execution_count": 2,
   "metadata": {},
   "outputs": [],
   "source": [
    "def std(data):\n",
    "    '''standartization'''\n",
    "\n",
    "    means = np.mean(data, axis=0)\n",
    "    stds = np.std(data, axis=0)\n",
    "    \n",
    "    for i in range(data.shape[0]):\n",
    "        for j in range(data.shape[1]):\n",
    "            data[i][j] = (data[i][j] - means[j])/stds[j]\n",
    "            \n",
    "    return data"
   ]
  },
  {
   "cell_type": "markdown",
   "metadata": {},
   "source": [
    "2. Модифицировать решение первого задания путем добавления $L_{2}$-регуляризации (в функцию, считающую MSE, нужно добавить норму вектора весов) и сравнить результаты."
   ]
  },
  {
   "cell_type": "code",
   "execution_count": 3,
   "metadata": {},
   "outputs": [],
   "source": [
    "def mserror(X, w, y_pred, lambda_=1e-8):\n",
    "    '''mean squared error'''\n",
    "    \n",
    "    y = X@w\n",
    "    L2 = lambda_ * np.sum(w**2) # create L2\n",
    "    \n",
    "    return (sum((y - y_pred)**2)) / len(y) + L2"
   ]
  },
  {
   "cell_type": "code",
   "execution_count": 4,
   "metadata": {},
   "outputs": [],
   "source": [
    "def sgb(data, eta=1e-2, max_iter=1e5):\n",
    "    '''stochastic gradient boosting'''\n",
    "    \n",
    "    w = np.zeros(data.shape[1])\n",
    "    w_list = [w.copy()]\n",
    "    np.random.seed(1234)\n",
    "    \n",
    "    iter_num = 0\n",
    "    errors = []\n",
    "    \n",
    "    while iter_num < max_iter:\n",
    "\n",
    "        train_ind = np.random.randint(data.shape[0])\n",
    "\n",
    "        new_w = w - 2 * eta * np.dot(data[train_ind].T, (np.dot(data[train_ind], w) - target[train_ind]))/target.shape[0]\n",
    "\n",
    "        w_list.append(new_w.copy())\n",
    "        errors.append(mserror(data, new_w, target))\n",
    "\n",
    "        iter_num += 1\n",
    "        w = new_w\n",
    "\n",
    "    w_list = np.array(w_list)\n",
    "    \n",
    "    return errors"
   ]
  },
  {
   "cell_type": "code",
   "execution_count": 5,
   "metadata": {},
   "outputs": [],
   "source": [
    "def gb(data, eta=1e-2, max_iter = 1e5):\n",
    "    '''gradient boosting'''\n",
    "    \n",
    "    w = np.zeros(data.shape[1])\n",
    "    w_list = [w.copy()]\n",
    "    np.random.seed(1234)\n",
    "    \n",
    "    iter_num = 0\n",
    "    errors = []\n",
    "\n",
    "    while iter_num < max_iter:\n",
    "        \n",
    "        new_w = w - 2 * eta * np.dot(data.T, (np.dot(data, w) - target))/target.shape[0]\n",
    "\n",
    "        w_list.append(new_w.copy())\n",
    "        errors.append(mserror(data, new_w, target))\n",
    "\n",
    "        iter_num += 1\n",
    "        w = new_w\n",
    "\n",
    "    w_list = np.array(w_list)\n",
    "\n",
    "    return errors"
   ]
  },
  {
   "cell_type": "code",
   "execution_count": 6,
   "metadata": {},
   "outputs": [
    {
     "data": {
      "text/plain": [
       "array([[-0.72228806, -0.73960708, -0.75137484, -2.10355834,  0.30835626,\n",
       "        -0.24814334,  0.09357179, -0.94575171, -0.28770371,  0.03006006],\n",
       "       [-0.76832325, -0.09319787, -0.19733095,  0.29123401, -0.01333975,\n",
       "         1.07682965,  0.43741023,  0.13563142, -0.88270882,  0.88474419]])"
      ]
     },
     "execution_count": 6,
     "metadata": {},
     "output_type": "execute_result"
    }
   ],
   "source": [
    "data, target, coef = datasets.make_regression(\n",
    "    n_samples=100, n_features=10,\n",
    "    n_informative=2, n_targets=1,\n",
    "    noise=5, coef=True,\n",
    "    random_state=2\n",
    ")\n",
    "\n",
    "data[:2]"
   ]
  },
  {
   "cell_type": "code",
   "execution_count": 7,
   "metadata": {},
   "outputs": [
    {
     "data": {
      "text/plain": [
       "array([[-0.62021026, -0.71356429, -0.68643892, -1.98288234,  0.21993735,\n",
       "        -0.30010234,  0.07684171, -0.78355707, -0.32816442,  0.13232819],\n",
       "       [-0.66631464, -0.09101057, -0.13508863,  0.59013641, -0.10948999,\n",
       "         0.9230594 ,  0.44130038,  0.2938604 , -0.96178912,  0.9402435 ]])"
      ]
     },
     "execution_count": 7,
     "metadata": {},
     "output_type": "execute_result"
    }
   ],
   "source": [
    "data = std(data)\n",
    "data[:2]"
   ]
  },
  {
   "cell_type": "code",
   "execution_count": 8,
   "metadata": {},
   "outputs": [],
   "source": [
    "iterations = 4e4\n",
    "\n",
    "res_sgb = np.array(sgb(data, max_iter=iterations))\n",
    "res_gb = np.array(gb(data, max_iter=iterations))"
   ]
  },
  {
   "cell_type": "code",
   "execution_count": 9,
   "metadata": {},
   "outputs": [
    {
     "data": {
      "image/png": "[encoded data removed]",
      "text/plain": [
       "<Figure size 432x288 with 1 Axes>"
      ]
     },
     "metadata": {
      "needs_background": "light"
     },
     "output_type": "display_data"
    }
   ],
   "source": [
    "pease_of_name = 'gradient boosting'\n",
    "\n",
    "plt.scatter(range(res_sgb.shape[0]), res_sgb, label=f'stochastic {pease_of_name}')\n",
    "plt.scatter(range(res_gb.shape[0]), res_gb, label=f'{pease_of_name}')\n",
    "\n",
    "plt.legend()\n",
    "plt.show()"
   ]
  },
  {
   "cell_type": "code",
   "execution_count": 10,
   "metadata": {},
   "outputs": [
    {
     "data": {
      "text/plain": [
       "array([21.39257869, 21.39178695, 21.39178099, 21.39163932, 21.39245361])"
      ]
     },
     "execution_count": 10,
     "metadata": {},
     "output_type": "execute_result"
    }
   ],
   "source": [
    "res_sgb[-5:] # looking at errors"
   ]
  },
  {
   "cell_type": "code",
   "execution_count": 11,
   "metadata": {},
   "outputs": [
    {
     "data": {
      "text/plain": [
       "array([21.26210512, 21.26210512, 21.26210512, 21.26210512, 21.26210512])"
      ]
     },
     "execution_count": 11,
     "metadata": {},
     "output_type": "execute_result"
    }
   ],
   "source": [
    "res_gb[-5:] # looking at errors"
   ]
  },
  {
   "cell_type": "markdown",
   "metadata": {},
   "source": [
    "__Вывод:__<br>\n",
    "__Скорость сходимость__ больше у обычного __градиентного спуска__."
   ]
  },
  {
   "cell_type": "code",
   "execution_count": null,
   "metadata": {},
   "outputs": [],
   "source": []
  }
 ],
 "metadata": {
  "kernelspec": {
   "display_name": "Python 3",
   "language": "python",
   "name": "python3"
  },
  "language_info": {
   "codemirror_mode": {
    "name": "ipython",
    "version": 3
   },
   "file_extension": ".py",
   "mimetype": "text/x-python",
   "name": "python",
   "nbconvert_exporter": "python",
   "pygments_lexer": "ipython3",
   "version": "3.7.4"
  }
 },
 "nbformat": 4,
 "nbformat_minor": 2
}
