{
 "cells": [
  {
   "cell_type": "markdown",
   "metadata": {},
   "source": [
    "##### 1. Измените функцию calc_logloss так, чтобы нули по возможности не попадали в np.log"
   ]
  },
  {
   "cell_type": "code",
   "execution_count": 1,
   "metadata": {},
   "outputs": [],
   "source": [
    "import numpy as np\n",
    "import matplotlib.pyplot as plt\n",
    "import warnings\n",
    "\n",
    "warnings.filterwarnings('ignore')"
   ]
  },
  {
   "cell_type": "markdown",
   "metadata": {},
   "source": [
    "Решил по аналогии с sklearn __заменять__ 0 и 1 на __максимально близкое__ к этим значениям число с плавающей запятой"
   ]
  },
  {
   "cell_type": "code",
   "execution_count": 2,
   "metadata": {},
   "outputs": [],
   "source": [
    "def calc_logloss(y, y_pred):\n",
    "    \n",
    "    y_pred = y_pred.astype(float)\n",
    "    \n",
    "    for i in range(y_pred.shape[0]):\n",
    "        if y_pred[i] <= 0:\n",
    "            y_pred[i] = 0.0000000000000001\n",
    "        elif y_pred[i] >= 1:\n",
    "            y_pred[i] = 0.9999999999999999\n",
    "                \n",
    "    return - np.mean(y * np.log(y_pred) + (1.0 - y) * np.log(1.0 - y_pred))"
   ]
  },
  {
   "cell_type": "markdown",
   "metadata": {},
   "source": [
    "__Проверяем__"
   ]
  },
  {
   "cell_type": "code",
   "execution_count": 3,
   "metadata": {},
   "outputs": [
    {
     "data": {
      "text/plain": [
       "(36.78908102879092, 1.1102230246251565e-16)"
      ]
     },
     "execution_count": 3,
     "metadata": {},
     "output_type": "execute_result"
    }
   ],
   "source": [
    "y = np.array([1, 0])\n",
    "\n",
    "y_pred1 = np.array([0, 1])\n",
    "y_pred2 = np.array([1, 0])\n",
    "\n",
    "calc_logloss(y, y_pred1), calc_logloss(y, y_pred2)"
   ]
  },
  {
   "cell_type": "markdown",
   "metadata": {},
   "source": [
    "##### 2. Подберите аргументы функции eval_model для логистической регрессии таким образом, чтобы log loss был минимальным.\n",
    "\n",
    "__Генерируем датасет__"
   ]
  },
  {
   "cell_type": "code",
   "execution_count": 4,
   "metadata": {},
   "outputs": [],
   "source": [
    "X = np.array([[1, 1, 1, 1, 1, 1, 1, 1, 1, 1],\n",
    "              [1, 1, 2, 1, 3, 0, 5, 10, 1, 2],\n",
    "              [500, 700, 750, 600, 1450,\n",
    "               800, 1500, 2000, 450, 1000],\n",
    "              [1, 1, 2, 1, 2, \n",
    "               1, 3, 3, 1, 2]], dtype = np.float64)\n",
    "\n",
    "y = np.array([0, 0, 1, 0, 1, 0, 1, 0, 1, 1], dtype = np.float64)"
   ]
  },
  {
   "cell_type": "markdown",
   "metadata": {},
   "source": [
    "__Стандартизируем выбоку__"
   ]
  },
  {
   "cell_type": "code",
   "execution_count": 5,
   "metadata": {},
   "outputs": [],
   "source": [
    "def calc_std_feat(x):\n",
    "    res = (x - x.mean()) / x.std()\n",
    "    return res"
   ]
  },
  {
   "cell_type": "code",
   "execution_count": 6,
   "metadata": {},
   "outputs": [
    {
     "data": {
      "text/plain": [
       "array([[-0.50201588, -0.50201588, -0.50201588, -0.50201588, -0.50201588,\n",
       "        -0.50201588, -0.50201588, -0.50201588, -0.50201588, -0.50201588],\n",
       "       [-0.50201588, -0.50201588, -0.49995907, -0.50201588, -0.49790226,\n",
       "        -0.50407269, -0.49378864, -0.48350459, -0.50201588, -0.49995907],\n",
       "       [ 0.52433227,  0.93569425,  1.03853475,  0.73001326,  2.4783017 ,\n",
       "         1.14137525,  2.58114219,  3.60954715,  0.42149177,  1.55273723],\n",
       "       [-0.50201588, -0.50201588, -0.49995907, -0.50201588, -0.49995907,\n",
       "        -0.50201588, -0.49790226, -0.49790226, -0.50201588, -0.49995907]])"
      ]
     },
     "execution_count": 6,
     "metadata": {},
     "output_type": "execute_result"
    }
   ],
   "source": [
    "standart_X = calc_std_feat(X)\n",
    "standart_X"
   ]
  },
  {
   "cell_type": "markdown",
   "metadata": {},
   "source": [
    "__Обучаем модель__"
   ]
  },
  {
   "cell_type": "code",
   "execution_count": 7,
   "metadata": {},
   "outputs": [],
   "source": [
    "def sigmoid(z):\n",
    "    res = 1 / (1 + np.exp(-z))\n",
    "    return res"
   ]
  },
  {
   "cell_type": "code",
   "execution_count": 8,
   "metadata": {},
   "outputs": [],
   "source": [
    "def eval_model(X, y, iterations, alpha=1e-4):\n",
    "    \n",
    "    np.random.seed(42)\n",
    "    W = np.random.randn(X.shape[0])\n",
    "    n = X.shape[1]\n",
    "    errors = []\n",
    "    ww = []\n",
    "    \n",
    "    for i in range(1, iterations+1):\n",
    "        z = np.dot(W, X)\n",
    "        y_pred = sigmoid(z)\n",
    "        err = calc_logloss(y, y_pred)\n",
    "        W -= alpha * (1/n * np.dot((y_pred - y), X.T))\n",
    "        \n",
    "        errors.append(err)\n",
    "        \n",
    "        if i % (iterations / 10) == 0:\n",
    "            print(i, W, err)\n",
    "    \n",
    "    errors = np.array(errors)\n",
    "    \n",
    "    return errors, W"
   ]
  },
  {
   "cell_type": "code",
   "execution_count": 9,
   "metadata": {},
   "outputs": [
    {
     "name": "stdout",
     "output_type": "stream",
     "text": [
      "600 [ 0.41842182 -0.21992301  0.47019999  1.44573103] 0.6949637595265185\n",
      "1200 [ 0.33979137 -0.30132763  0.40995062  1.3682635 ] 0.691196973193927\n",
      "1800 [ 0.2802578  -0.36338658  0.3649515   1.30994248] 0.6890443169919596\n",
      "2400 [ 0.23546109 -0.41051925  0.33114523  1.26639574] 0.687823992927346\n",
      "3000 [ 0.20185877 -0.44631366  0.30580414  1.23407172] 0.6871358996060832\n",
      "3600 [ 0.17671164 -0.47354417  0.28683803  1.21022426] 0.6867492354066389\n",
      "4200 [ 0.15792658 -0.49433083  0.27265847  1.19275493] 0.6865323725371699\n",
      "4800 [ 0.14391626 -0.51028135  0.26206561  1.18007236] 0.6864108112284383\n",
      "5400 [ 0.13348298 -0.52260883  0.25415666  1.17097584] 0.6863426016919705\n",
      "6000 [ 0.12572609 -0.53222549  0.24825418  1.16456246] 0.6863042058607933\n"
     ]
    },
    {
     "data": {
      "text/plain": [
       "array([0.68630425, 0.68630421])"
      ]
     },
     "execution_count": 9,
     "metadata": {},
     "output_type": "execute_result"
    }
   ],
   "source": [
    "model = eval_model(\n",
    "    X=standart_X,\n",
    "    y=y,\n",
    "    iterations=6000,\n",
    "    alpha=1e-2\n",
    ")\n",
    "\n",
    "model[0][-2:]"
   ]
  },
  {
   "cell_type": "code",
   "execution_count": 10,
   "metadata": {},
   "outputs": [
    {
     "data": {
      "image/png": "[encoded data removed]",
      "text/plain": [
       "<Figure size 432x288 with 1 Axes>"
      ]
     },
     "metadata": {
      "needs_background": "light"
     },
     "output_type": "display_data"
    }
   ],
   "source": [
    "plt.plot(range(model[0].shape[0]),model[0])\n",
    "\n",
    "plt.grid()\n",
    "plt.show()"
   ]
  },
  {
   "cell_type": "markdown",
   "metadata": {},
   "source": [
    "__log_loss__ минимален при __alpha = 1e-2__ и количестве __итераций = 6000__"
   ]
  },
  {
   "cell_type": "markdown",
   "metadata": {},
   "source": [
    "##### 3. Создайте функцию calc_pred_proba, возвращающую предсказанную вероятность класса 1 (на вход подаются W, который уже посчитан функцией eval_model и X, на выходе - массив y_pred_proba)."
   ]
  },
  {
   "cell_type": "code",
   "execution_count": 11,
   "metadata": {},
   "outputs": [],
   "source": [
    "def cals_pred_proba(W, X):\n",
    "    \n",
    "    y_pred_proba = 1 / (1 + np.exp(-np.dot(W, X)))\n",
    "    \n",
    "    return y_pred_proba"
   ]
  },
  {
   "cell_type": "markdown",
   "metadata": {},
   "source": [
    "__Просматриваем результат__"
   ]
  },
  {
   "cell_type": "code",
   "execution_count": 12,
   "metadata": {},
   "outputs": [
    {
     "data": {
      "text/plain": [
       "array([0.43772701, 0.46300034, 0.46967763, 0.45033163, 0.55845521,\n",
       "       0.47599002, 0.56479151, 0.62491521, 0.43145369, 0.5015536 ])"
      ]
     },
     "execution_count": 12,
     "metadata": {},
     "output_type": "execute_result"
    }
   ],
   "source": [
    "cpp = cals_pred_proba(model[1], standart_X)\n",
    "cpp"
   ]
  },
  {
   "cell_type": "markdown",
   "metadata": {},
   "source": [
    "##### 4. Создайте функцию calc_pred, возвращающую предсказанный класс (на вход подаются W, который уже посчитан функцией eval_model и X, на выходе - массив y_pred)."
   ]
  },
  {
   "cell_type": "code",
   "execution_count": 13,
   "metadata": {},
   "outputs": [],
   "source": [
    "def y_pred(W, X):\n",
    "    \n",
    "    y_pred = cals_pred_proba(W, X)\n",
    "\n",
    "    for i in range(y_pred.shape[0]):\n",
    "        if y_pred[i] > 0.5:\n",
    "            y_pred[i] = 1\n",
    "        else:\n",
    "            y_pred[i] = 0\n",
    "    \n",
    "    return y_pred"
   ]
  },
  {
   "cell_type": "markdown",
   "metadata": {},
   "source": [
    "__Просматриваем результат__"
   ]
  },
  {
   "cell_type": "code",
   "execution_count": 14,
   "metadata": {},
   "outputs": [
    {
     "data": {
      "text/plain": [
       "array([0., 0., 0., 0., 1., 0., 1., 1., 0., 1.])"
      ]
     },
     "execution_count": 14,
     "metadata": {},
     "output_type": "execute_result"
    }
   ],
   "source": [
    "cp = y_pred(model[1], standart_X)\n",
    "cp"
   ]
  },
  {
   "cell_type": "code",
   "execution_count": 15,
   "metadata": {},
   "outputs": [
    {
     "data": {
      "image/png": "[encoded data removed]",
      "text/plain": [
       "<Figure size 288x72 with 1 Axes>"
      ]
     },
     "metadata": {
      "needs_background": "light"
     },
     "output_type": "display_data"
    }
   ],
   "source": [
    "plt.figure(figsize=(4,1))\n",
    "plt.scatter(range(cp.shape[0]), cp)\n",
    "plt.show()"
   ]
  },
  {
   "cell_type": "markdown",
   "metadata": {},
   "source": [
    "##### 5. Посчитайте Accuracy, матрицу ошибок, точность и полноту, а также F1 score."
   ]
  },
  {
   "cell_type": "markdown",
   "metadata": {},
   "source": [
    "__Accuracy__"
   ]
  },
  {
   "cell_type": "code",
   "execution_count": 16,
   "metadata": {},
   "outputs": [],
   "source": [
    "def accuracy(y, y_pred):\n",
    "    \n",
    "    acc = (y_pred == y).sum()/cp.shape[0]\n",
    "    \n",
    "    return acc"
   ]
  },
  {
   "cell_type": "code",
   "execution_count": 17,
   "metadata": {},
   "outputs": [
    {
     "data": {
      "text/plain": [
       "0.7"
      ]
     },
     "execution_count": 17,
     "metadata": {},
     "output_type": "execute_result"
    }
   ],
   "source": [
    "accuracy(y=y, y_pred=cp)"
   ]
  },
  {
   "cell_type": "markdown",
   "metadata": {},
   "source": [
    "__Матрица ошибок__"
   ]
  },
  {
   "cell_type": "code",
   "execution_count": 18,
   "metadata": {},
   "outputs": [],
   "source": [
    "def error_matrix(y, y_pred):\n",
    "    \n",
    "    TP = y * y_pred\n",
    "    FP = y_pred - TP\n",
    "    FN = y - TP\n",
    "    TN = y**0 - TP - FP - FN\n",
    "    \n",
    "    return np.array([[TP.sum(), FP.sum()], \n",
    "                     [FN.sum(), TN.sum()]])"
   ]
  },
  {
   "cell_type": "code",
   "execution_count": 19,
   "metadata": {},
   "outputs": [
    {
     "data": {
      "text/plain": [
       "array([[3., 1.],\n",
       "       [2., 4.]])"
      ]
     },
     "execution_count": 19,
     "metadata": {},
     "output_type": "execute_result"
    }
   ],
   "source": [
    "em = error_matrix(y=y, y_pred=cp)\n",
    "em"
   ]
  },
  {
   "cell_type": "markdown",
   "metadata": {},
   "source": [
    "__точность__"
   ]
  },
  {
   "cell_type": "code",
   "execution_count": 20,
   "metadata": {},
   "outputs": [],
   "source": [
    "def precision(em):\n",
    "    return em[0,0]/(em[0,0]+em[0,1])"
   ]
  },
  {
   "cell_type": "code",
   "execution_count": 21,
   "metadata": {},
   "outputs": [
    {
     "data": {
      "text/plain": [
       "0.75"
      ]
     },
     "execution_count": 21,
     "metadata": {},
     "output_type": "execute_result"
    }
   ],
   "source": [
    "precision(em)"
   ]
  },
  {
   "cell_type": "markdown",
   "metadata": {},
   "source": [
    "__полнота__"
   ]
  },
  {
   "cell_type": "code",
   "execution_count": 22,
   "metadata": {},
   "outputs": [],
   "source": [
    "def recall(em):\n",
    "    return em[0,0]/(em[0,0]+em[1,0])"
   ]
  },
  {
   "cell_type": "code",
   "execution_count": 23,
   "metadata": {},
   "outputs": [
    {
     "data": {
      "text/plain": [
       "0.6"
      ]
     },
     "execution_count": 23,
     "metadata": {},
     "output_type": "execute_result"
    }
   ],
   "source": [
    "recall(em)"
   ]
  },
  {
   "cell_type": "markdown",
   "metadata": {},
   "source": [
    "__F1 score__"
   ]
  },
  {
   "cell_type": "code",
   "execution_count": 24,
   "metadata": {},
   "outputs": [],
   "source": [
    "def F1_score(em):\n",
    "    pre = precision(em)\n",
    "    rec = recall(em)\n",
    "    return (2*pre*rec)/(pre+rec)"
   ]
  },
  {
   "cell_type": "code",
   "execution_count": 25,
   "metadata": {},
   "outputs": [
    {
     "data": {
      "text/plain": [
       "0.6666666666666665"
      ]
     },
     "execution_count": 25,
     "metadata": {},
     "output_type": "execute_result"
    }
   ],
   "source": [
    "F1_score(em)"
   ]
  },
  {
   "cell_type": "markdown",
   "metadata": {},
   "source": [
    "##### 6. Могла ли модель переобучиться? Почему?"
   ]
  },
  {
   "cell_type": "markdown",
   "metadata": {},
   "source": [
    "Модель может переобучиться потому, что: \n",
    "- мы оценили приблизительное количество итераций\n",
    "- так же небыло использовано  минимальное значение\n",
    "- в исходной матрице малое количество объектов, из за чего обучение происходит быстрее\n",
    "- не были использовани $L_1$ или $L_2$ регуляции"
   ]
  },
  {
   "cell_type": "markdown",
   "metadata": {},
   "source": [
    "##### 7*. Создайте функции eval_model_l1 и eval_model_l2 с применением L1 и L2 регуляризаций соответственно."
   ]
  },
  {
   "cell_type": "code",
   "execution_count": 26,
   "metadata": {},
   "outputs": [],
   "source": [
    "def eval_model_l1(X, y, iterations, lambda_, alpha=1e-4):\n",
    "    \n",
    "    np.random.seed(42)\n",
    "    W = np.random.randn(X.shape[0])\n",
    "    n = X.shape[1]\n",
    "    errors = []\n",
    "    ww = []\n",
    "    \n",
    "    for i in range(1, iterations+1):\n",
    "        z = np.dot(W, X)\n",
    "        y_pred = sigmoid(z)\n",
    "        err = calc_logloss(y, y_pred)\n",
    "        W -= alpha * (1/n * np.dot((y_pred - y), X.T) + (lambda_/2)*np.sum(np.abs(W))) # <- l1\n",
    "        \n",
    "        errors.append(err)\n",
    "        \n",
    "        if i % (iterations / 10) == 0:\n",
    "            print(i, W, err)\n",
    "    \n",
    "    errors = np.array(errors)\n",
    "    \n",
    "    return errors, W"
   ]
  },
  {
   "cell_type": "markdown",
   "metadata": {},
   "source": [
    "Попробуем обучить модель с __$L_1$__ регуляцией"
   ]
  },
  {
   "cell_type": "code",
   "execution_count": 27,
   "metadata": {},
   "outputs": [
    {
     "name": "stdout",
     "output_type": "stream",
     "text": [
      "600 [ 0.34789759 -0.29027786  0.41367404  1.37524741] 0.6915442275669355\n",
      "1200 [ 0.22289363 -0.41766869  0.31938916  1.25149068] 0.6875627096610113\n",
      "1800 [ 0.13383641 -0.50872391  0.25299359  1.16375694] 0.6863618554385126\n",
      "2400 [ 0.0707251  -0.5735537   0.20611078  1.10202343] 0.6863442904466605\n",
      "3000 [ 0.02608669 -0.61971104  0.17304812  1.05880147] 0.6867514187044965\n",
      "3600 [-0.0055041  -0.65267906  0.1497079   1.0286545 ] 0.6872494580604228\n",
      "4200 [-0.02878385 -0.6772336   0.13249893  1.00683844] 0.6877274456914868\n",
      "4800 [-0.0463455  -0.69599288  0.11955575  0.99075548] 0.688149414771267\n",
      "5400 [-0.05961924 -0.71040606  0.10981129  0.97897176] 0.6885025501254595\n",
      "6000 [-0.06967916 -0.72156153  0.10246231  0.97041039] 0.6887889903088202\n"
     ]
    },
    {
     "data": {
      "text/plain": [
       "array([0.68878856, 0.68878899])"
      ]
     },
     "execution_count": 27,
     "metadata": {},
     "output_type": "execute_result"
    }
   ],
   "source": [
    "model_l1 = eval_model_l1(\n",
    "    X=standart_X,\n",
    "    y=y,\n",
    "    iterations=6000,\n",
    "    alpha=1e-2,\n",
    "    lambda_=1e-2\n",
    ")\n",
    "\n",
    "model_l1[0][-2:]"
   ]
  },
  {
   "cell_type": "markdown",
   "metadata": {},
   "source": [
    "Просмотрим результат на графике"
   ]
  },
  {
   "cell_type": "code",
   "execution_count": 28,
   "metadata": {},
   "outputs": [
    {
     "data": {
      "image/png": "[encoded data removed]",
      "text/plain": [
       "<Figure size 432x288 with 1 Axes>"
      ]
     },
     "metadata": {
      "needs_background": "light"
     },
     "output_type": "display_data"
    }
   ],
   "source": [
    "plt.plot(range(model_l1[0].shape[0]),model_l1[0])\n",
    "\n",
    "plt.grid()\n",
    "plt.show()"
   ]
  },
  {
   "cell_type": "markdown",
   "metadata": {},
   "source": [
    "Видно что с добавлением количества итераций увеличивается ошибка"
   ]
  },
  {
   "cell_type": "code",
   "execution_count": 29,
   "metadata": {},
   "outputs": [],
   "source": [
    "def eval_model_l2(X, y, iterations, lambda_, alpha=1e-4):\n",
    "    \n",
    "    np.random.seed(42)\n",
    "    W = np.random.randn(X.shape[0])\n",
    "    n = X.shape[1]\n",
    "    errors = []\n",
    "    ww = []\n",
    "    \n",
    "    for i in range(1, iterations+1):\n",
    "        z = np.dot(W, X)\n",
    "        y_pred = sigmoid(z)\n",
    "        err = calc_logloss(y, y_pred)\n",
    "        W -= alpha * (1/n * np.dot((y_pred - y), X.T) + (lambda_/2)*np.sum(W**2)) # <- l2\n",
    "        \n",
    "        errors.append(err)\n",
    "        \n",
    "        if i % (iterations / 10) == 0:\n",
    "            print(i, W, err)\n",
    "    \n",
    "    errors = np.array(errors)\n",
    "    \n",
    "    return errors, W"
   ]
  },
  {
   "cell_type": "markdown",
   "metadata": {},
   "source": [
    "Теперь обучим модель с __$L_2$__ регуляцией"
   ]
  },
  {
   "cell_type": "code",
   "execution_count": 30,
   "metadata": {},
   "outputs": [
    {
     "name": "stdout",
     "output_type": "stream",
     "text": [
      "600 [ 0.34802398 -0.29014809  0.41391855  1.37537455] 0.6915503001832533\n",
      "1200 [ 0.22971338 -0.41086154  0.3248774   1.25830736] 0.6877110615949367\n",
      "1800 [ 0.14783098 -0.49478707  0.26386458  1.17773855] 0.6864586949777618\n",
      "2400 [ 0.09035399 -0.55405283  0.22112551  1.1216245 ] 0.6862740511693094\n",
      "3000 [ 0.04952831 -0.59648565  0.19082139  1.08219699] 0.6864929784408138\n",
      "3600 [ 0.02025573 -0.62723495  0.16913084  1.05434785] 0.6868291139396396\n",
      "4200 [-8.98645904e-04 -6.49771829e-01  1.53486336e-01  1.03463516e+00] 0.687164805447611\n",
      "4800 [-0.01629407 -0.66648133  0.14212771  1.02069469] 0.6874575503309226\n",
      "5400 [-0.02757525 -0.67902664  0.13382947  1.01087814] 0.6876974499648454\n",
      "6000 [-0.03590184 -0.68858066  0.12772834  1.0040233 ] 0.6878877844788239\n"
     ]
    },
    {
     "data": {
      "text/plain": [
       "array([0.6878875 , 0.68788778])"
      ]
     },
     "execution_count": 30,
     "metadata": {},
     "output_type": "execute_result"
    }
   ],
   "source": [
    "model_l2 = eval_model_l2(\n",
    "    X=standart_X,\n",
    "    y=y,\n",
    "    iterations=6000,\n",
    "    alpha=1e-2,\n",
    "    lambda_=1e-2\n",
    ")\n",
    "\n",
    "model_l2[0][-2:]"
   ]
  },
  {
   "cell_type": "code",
   "execution_count": 31,
   "metadata": {},
   "outputs": [
    {
     "data": {
      "image/png": "[encoded data removed]",
      "text/plain": [
       "<Figure size 432x288 with 1 Axes>"
      ]
     },
     "metadata": {
      "needs_background": "light"
     },
     "output_type": "display_data"
    }
   ],
   "source": [
    "plt.plot(range(model_l2[0].shape[0]),model_l2[0])\n",
    "\n",
    "plt.grid()\n",
    "plt.show()"
   ]
  },
  {
   "cell_type": "markdown",
   "metadata": {},
   "source": [
    "В сравнении с $L_1$, $L_2$ добавляет меньшую ошибку"
   ]
  }
 ],
 "metadata": {
  "kernelspec": {
   "display_name": "Python 3",
   "language": "python",
   "name": "python3"
  },
  "language_info": {
   "codemirror_mode": {
    "name": "ipython",
    "version": 3
   },
   "file_extension": ".py",
   "mimetype": "text/x-python",
   "name": "python",
   "nbconvert_exporter": "python",
   "pygments_lexer": "ipython3",
   "version": "3.7.4"
  }
 },
 "nbformat": 4,
 "nbformat_minor": 2
}
