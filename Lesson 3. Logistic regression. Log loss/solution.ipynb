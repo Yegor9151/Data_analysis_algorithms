{
 "cells": [
  {
   "cell_type": "markdown",
   "metadata": {},
   "source": [
    "##### 1. Измените функцию calc_logloss так, чтобы нули по возможности не попадали в np.log"
   ]
  },
  {
   "cell_type": "code",
   "execution_count": 1,
   "metadata": {},
   "outputs": [],
   "source": [
    "import numpy as np\n",
    "import matplotlib.pyplot as plt\n",
    "import warnings\n",
    "\n",
    "warnings.filterwarnings('ignore')"
   ]
  },
  {
   "cell_type": "markdown",
   "metadata": {},
   "source": [
    "Решил по аналогии с sklearn __заменять__ 0 и 1 на __максимально близкое__ к этим значениям число с плавающей запятой"
   ]
  },
  {
   "cell_type": "code",
   "execution_count": 2,
   "metadata": {},
   "outputs": [],
   "source": [
    "def calc_logloss(y, y_pred):\n",
    "    \n",
    "    y_pred = y_pred.astype(float)\n",
    "    \n",
    "    for i in range(y_pred.shape[0]):\n",
    "        if y_pred[i] <= 0:\n",
    "            y_pred[i] = 0.0000000000000001\n",
    "        elif y_pred[i] >= 1:\n",
    "            y_pred[i] = 0.9999999999999999\n",
    "                \n",
    "    return - np.mean(y * np.log(y_pred) + (1.0 - y) * np.log(1.0 - y_pred))"
   ]
  },
  {
   "cell_type": "markdown",
   "metadata": {},
   "source": [
    "__Проверяем__"
   ]
  },
  {
   "cell_type": "code",
   "execution_count": 3,
   "metadata": {},
   "outputs": [
    {
     "data": {
      "text/plain": [
       "(36.78908102879092, 1.1102230246251565e-16)"
      ]
     },
     "execution_count": 3,
     "metadata": {},
     "output_type": "execute_result"
    }
   ],
   "source": [
    "y = np.array([1, 0])\n",
    "\n",
    "y_pred1 = np.array([0, 1])\n",
    "y_pred2 = np.array([1, 0])\n",
    "\n",
    "calc_logloss(y, y_pred1), calc_logloss(y, y_pred2)"
   ]
  },
  {
   "cell_type": "markdown",
   "metadata": {},
   "source": [
    "##### 2. Подберите аргументы функции eval_model для логистической регрессии таким образом, чтобы log loss был минимальным.\n",
    "\n",
    "__Генерируем датасет__"
   ]
  },
  {
   "cell_type": "code",
   "execution_count": 4,
   "metadata": {},
   "outputs": [],
   "source": [
    "X = np.array([[1, 1, 1, 1, 1, 1, 1, 1, 1, 1],\n",
    "              [1, 1, 2, 1, 3, 0, 5, 10, 1, 2],\n",
    "              [500, 700, 750, 600, 1450,\n",
    "               800, 1500, 2000, 450, 1000],\n",
    "              [1, 1, 2, 1, 2, \n",
    "               1, 3, 3, 1, 2]], dtype = np.float64)\n",
    "\n",
    "y = np.array([0, 0, 1, 0, 1, 0, 1, 0, 1, 1], dtype = np.float64)"
   ]
  },
  {
   "cell_type": "markdown",
   "metadata": {},
   "source": [
    "__Стандартизируем выбоку__"
   ]
  },
  {
   "cell_type": "code",
   "execution_count": 5,
   "metadata": {},
   "outputs": [],
   "source": [
    "def calc_std_feat(x):\n",
    "    x[1:] = ((x[1:].T - x[1:].mean(axis=1)) / x[1:].std(axis=1)).T\n",
    "    return x"
   ]
  },
  {
   "cell_type": "code",
   "execution_count": 6,
   "metadata": {},
   "outputs": [
    {
     "data": {
      "text/plain": [
       "array([[ 1.        ,  1.        ,  1.        ,  1.        ,  1.        ,\n",
       "         1.        ,  1.        ,  1.        ,  1.        ,  1.        ],\n",
       "       [-0.57142857, -0.57142857, -0.21428571, -0.57142857,  0.14285714,\n",
       "        -0.92857143,  0.85714286,  2.64285714, -0.57142857, -0.21428571],\n",
       "       [-0.97958969, -0.56713087, -0.46401617, -0.77336028,  0.97958969,\n",
       "        -0.36090146,  1.08270439,  2.11385144, -1.08270439,  0.05155735],\n",
       "       [-0.89625816, -0.89625816,  0.38411064, -0.89625816,  0.38411064,\n",
       "        -0.89625816,  1.66447944,  1.66447944, -0.89625816,  0.38411064]])"
      ]
     },
     "execution_count": 6,
     "metadata": {},
     "output_type": "execute_result"
    }
   ],
   "source": [
    "standart_X = calc_std_feat(X)\n",
    "standart_X"
   ]
  },
  {
   "cell_type": "markdown",
   "metadata": {},
   "source": [
    "__Обучаем модель__"
   ]
  },
  {
   "cell_type": "code",
   "execution_count": 7,
   "metadata": {},
   "outputs": [],
   "source": [
    "def sigmoid(z):\n",
    "    res = 1 / (1 + np.exp(-z))\n",
    "    return res"
   ]
  },
  {
   "cell_type": "code",
   "execution_count": 8,
   "metadata": {},
   "outputs": [],
   "source": [
    "def eval_model(X, y, iterations, alpha=1e-4):\n",
    "    \n",
    "    np.random.seed(42)\n",
    "    W = np.random.randn(X.shape[0])\n",
    "    n = X.shape[1]\n",
    "    errors = []\n",
    "    ww = []\n",
    "    \n",
    "    for i in range(1, iterations+1):\n",
    "        z = np.dot(W, X)\n",
    "        y_pred = sigmoid(z)\n",
    "        err = calc_logloss(y, y_pred)\n",
    "        W -= alpha * (1/n * np.dot((y_pred - y), X.T))\n",
    "        \n",
    "        errors.append(err)\n",
    "        \n",
    "        if i % (iterations / 10) == 0:\n",
    "            print(i, W, err)\n",
    "    \n",
    "    errors = np.array(errors)\n",
    "    \n",
    "    return errors, W"
   ]
  },
  {
   "cell_type": "code",
   "execution_count": 9,
   "metadata": {},
   "outputs": [
    {
     "name": "stdout",
     "output_type": "stream",
     "text": [
      "600 [ 0.17824997 -0.97116504 -0.02607988  1.46430415] 0.489852406291681\n",
      "1200 [ 0.07395856 -1.2388272  -0.16312474  1.82897532] 0.4501286648107995\n",
      "1800 [ 0.06035202 -1.44495132 -0.26615902  2.15742805] 0.4231799335005643\n",
      "2400 [ 0.07238336 -1.61978426 -0.35850137  2.44522282] 0.4027979097629192\n",
      "3000 [ 0.09256249 -1.77093167 -0.44329208  2.70101059] 0.3867969488907016\n",
      "3600 [ 0.11572302 -1.9033832  -0.52226196  2.93131324] 0.3738895997943118\n",
      "4200 [ 0.14010956 -2.02077465 -0.59658742  3.14097152] 0.3632368317911221\n",
      "4800 [ 0.16501519 -2.1258425  -0.66710883  3.33365632] 0.35426975061363336\n",
      "5400 [ 0.19010154 -2.22069471 -0.73444655  3.51220301] 0.3465914289476232\n",
      "6000 [ 0.21518233 -2.30698587 -0.79907034  3.67883617] 0.3399180274364685\n"
     ]
    },
    {
     "data": {
      "text/plain": [
       "array([0.33992844, 0.33991803])"
      ]
     },
     "execution_count": 9,
     "metadata": {},
     "output_type": "execute_result"
    }
   ],
   "source": [
    "model = eval_model(\n",
    "    X=standart_X,\n",
    "    y=y,\n",
    "    iterations=6000,\n",
    "    alpha=1e-2\n",
    ")\n",
    "\n",
    "model[0][-2:]"
   ]
  },
  {
   "cell_type": "code",
   "execution_count": 10,
   "metadata": {},
   "outputs": [
    {
     "data": {
      "image/png": "[encoded data removed]",
      "text/plain": [
       "<Figure size 432x288 with 1 Axes>"
      ]
     },
     "metadata": {
      "needs_background": "light"
     },
     "output_type": "display_data"
    }
   ],
   "source": [
    "plt.plot(range(model[0].shape[0]),model[0])\n",
    "\n",
    "plt.grid()\n",
    "plt.show()"
   ]
  },
  {
   "cell_type": "markdown",
   "metadata": {},
   "source": [
    "__log_loss__ минимален при __alpha = 1e-2__ и количестве __итераций = 6000__"
   ]
  },
  {
   "cell_type": "markdown",
   "metadata": {},
   "source": [
    "##### 3. Создайте функцию calc_pred_proba, возвращающую предсказанную вероятность класса 1 (на вход подаются W, который уже посчитан функцией eval_model и X, на выходе - массив y_pred_proba)."
   ]
  },
  {
   "cell_type": "code",
   "execution_count": 11,
   "metadata": {},
   "outputs": [],
   "source": [
    "def cals_pred_proba(W, X):\n",
    "    \n",
    "    y_pred_proba = 1 / (1 + np.exp(-np.dot(W, X)))\n",
    "    \n",
    "    return y_pred_proba"
   ]
  },
  {
   "cell_type": "markdown",
   "metadata": {},
   "source": [
    "__Просматриваем результат__"
   ]
  },
  {
   "cell_type": "code",
   "execution_count": 12,
   "metadata": {},
   "outputs": [
    {
     "data": {
      "text/plain": [
       "array([0.27270017, 0.21239491, 0.92367771, 0.24126481, 0.62619604,\n",
       "       0.34267011, 0.97057249, 0.19036803, 0.28934445, 0.88908401])"
      ]
     },
     "execution_count": 12,
     "metadata": {},
     "output_type": "execute_result"
    }
   ],
   "source": [
    "cpp = cals_pred_proba(model[1], standart_X)\n",
    "cpp"
   ]
  },
  {
   "cell_type": "markdown",
   "metadata": {},
   "source": [
    "##### 4. Создайте функцию calc_pred, возвращающую предсказанный класс (на вход подаются W, который уже посчитан функцией eval_model и X, на выходе - массив y_pred)."
   ]
  },
  {
   "cell_type": "code",
   "execution_count": 13,
   "metadata": {},
   "outputs": [],
   "source": [
    "def y_pred(W, X):\n",
    "    \n",
    "    y_pred = cals_pred_proba(W, X)\n",
    "\n",
    "    for i in range(y_pred.shape[0]):\n",
    "        if y_pred[i] > 0.5:\n",
    "            y_pred[i] = 1\n",
    "        else:\n",
    "            y_pred[i] = 0\n",
    "    \n",
    "    return y_pred"
   ]
  },
  {
   "cell_type": "markdown",
   "metadata": {},
   "source": [
    "__Просматриваем результат__"
   ]
  },
  {
   "cell_type": "code",
   "execution_count": 14,
   "metadata": {},
   "outputs": [
    {
     "data": {
      "text/plain": [
       "array([0., 0., 1., 0., 1., 0., 1., 0., 0., 1.])"
      ]
     },
     "execution_count": 14,
     "metadata": {},
     "output_type": "execute_result"
    }
   ],
   "source": [
    "cp = y_pred(model[1], standart_X)\n",
    "cp"
   ]
  },
  {
   "cell_type": "code",
   "execution_count": 15,
   "metadata": {},
   "outputs": [
    {
     "data": {
      "image/png": "[encoded data removed]",
      "text/plain": [
       "<Figure size 288x72 with 1 Axes>"
      ]
     },
     "metadata": {
      "needs_background": "light"
     },
     "output_type": "display_data"
    }
   ],
   "source": [
    "plt.figure(figsize=(4,1))\n",
    "plt.scatter(range(cp.shape[0]), cp)\n",
    "plt.show()"
   ]
  },
  {
   "cell_type": "markdown",
   "metadata": {},
   "source": [
    "##### 5. Посчитайте Accuracy, матрицу ошибок, точность и полноту, а также F1 score."
   ]
  },
  {
   "cell_type": "markdown",
   "metadata": {},
   "source": [
    "__Accuracy__"
   ]
  },
  {
   "cell_type": "code",
   "execution_count": 16,
   "metadata": {},
   "outputs": [],
   "source": [
    "def accuracy(y, y_pred):\n",
    "    \n",
    "    acc = (y_pred == y).sum()/cp.shape[0]\n",
    "    \n",
    "    return acc"
   ]
  },
  {
   "cell_type": "code",
   "execution_count": 17,
   "metadata": {},
   "outputs": [
    {
     "data": {
      "text/plain": [
       "0.9"
      ]
     },
     "execution_count": 17,
     "metadata": {},
     "output_type": "execute_result"
    }
   ],
   "source": [
    "accuracy(y=y, y_pred=cp)"
   ]
  },
  {
   "cell_type": "markdown",
   "metadata": {},
   "source": [
    "__Матрица ошибок__"
   ]
  },
  {
   "cell_type": "code",
   "execution_count": 18,
   "metadata": {},
   "outputs": [],
   "source": [
    "def error_matrix(y, y_pred):\n",
    "    \n",
    "    TP = y * y_pred\n",
    "    FP = y_pred - TP\n",
    "    FN = y - TP\n",
    "    TN = y**0 - TP - FP - FN\n",
    "    \n",
    "    return np.array([[TP.sum(), FP.sum()], \n",
    "                     [FN.sum(), TN.sum()]])"
   ]
  },
  {
   "cell_type": "code",
   "execution_count": 19,
   "metadata": {},
   "outputs": [
    {
     "data": {
      "text/plain": [
       "array([[4., 0.],\n",
       "       [1., 5.]])"
      ]
     },
     "execution_count": 19,
     "metadata": {},
     "output_type": "execute_result"
    }
   ],
   "source": [
    "em = error_matrix(y=y, y_pred=cp)\n",
    "em"
   ]
  },
  {
   "cell_type": "markdown",
   "metadata": {},
   "source": [
    "__точность__"
   ]
  },
  {
   "cell_type": "code",
   "execution_count": 20,
   "metadata": {},
   "outputs": [],
   "source": [
    "def precision(em):\n",
    "    return em[0,0]/(em[0,0]+em[0,1])"
   ]
  },
  {
   "cell_type": "code",
   "execution_count": 21,
   "metadata": {},
   "outputs": [
    {
     "data": {
      "text/plain": [
       "1.0"
      ]
     },
     "execution_count": 21,
     "metadata": {},
     "output_type": "execute_result"
    }
   ],
   "source": [
    "precision(em)"
   ]
  },
  {
   "cell_type": "markdown",
   "metadata": {},
   "source": [
    "__полнота__"
   ]
  },
  {
   "cell_type": "code",
   "execution_count": 22,
   "metadata": {},
   "outputs": [],
   "source": [
    "def recall(em):\n",
    "    return em[0,0]/(em[0,0]+em[1,0])"
   ]
  },
  {
   "cell_type": "code",
   "execution_count": 23,
   "metadata": {},
   "outputs": [
    {
     "data": {
      "text/plain": [
       "0.8"
      ]
     },
     "execution_count": 23,
     "metadata": {},
     "output_type": "execute_result"
    }
   ],
   "source": [
    "recall(em)"
   ]
  },
  {
   "cell_type": "markdown",
   "metadata": {},
   "source": [
    "__F1 score__"
   ]
  },
  {
   "cell_type": "code",
   "execution_count": 24,
   "metadata": {},
   "outputs": [],
   "source": [
    "def F1_score(em):\n",
    "    pre = precision(em)\n",
    "    rec = recall(em)\n",
    "    return (2*pre*rec)/(pre+rec)"
   ]
  },
  {
   "cell_type": "code",
   "execution_count": 25,
   "metadata": {},
   "outputs": [
    {
     "data": {
      "text/plain": [
       "0.888888888888889"
      ]
     },
     "execution_count": 25,
     "metadata": {},
     "output_type": "execute_result"
    }
   ],
   "source": [
    "F1_score(em)"
   ]
  },
  {
   "cell_type": "markdown",
   "metadata": {},
   "source": [
    "##### 6. Могла ли модель переобучиться? Почему?"
   ]
  },
  {
   "cell_type": "markdown",
   "metadata": {},
   "source": [
    "Модель может переобучиться потому, что: \n",
    "- мы оценили приблизительное количество итераций\n",
    "- так же небыло использовано  минимальное значение\n",
    "- в исходной матрице малое количество объектов, из за чего обучение происходит быстрее\n",
    "- не были использовани $L_1$ или $L_2$ регуляции"
   ]
  },
  {
   "cell_type": "markdown",
   "metadata": {},
   "source": [
    "##### 7*. Создайте функции eval_model_l1 и eval_model_l2 с применением L1 и L2 регуляризаций соответственно."
   ]
  },
  {
   "cell_type": "code",
   "execution_count": 26,
   "metadata": {},
   "outputs": [],
   "source": [
    "def eval_model_l1(X, y, iterations, lambda_, alpha=1e-4):\n",
    "    \n",
    "    np.random.seed(42)\n",
    "    W = np.random.randn(X.shape[0])\n",
    "    n = X.shape[1]\n",
    "    errors = []\n",
    "    ww = []\n",
    "    \n",
    "    for i in range(1, iterations+1):\n",
    "        z = np.dot(W, X)\n",
    "        y_pred = sigmoid(z)\n",
    "        err = calc_logloss(y, y_pred)\n",
    "        W -= alpha * (1/n * np.dot((y_pred - y), X.T) + (lambda_/2)*np.sum(np.abs(W))) # <- l1\n",
    "        \n",
    "        errors.append(err)\n",
    "        \n",
    "        if i % (iterations / 10) == 0:\n",
    "            print(i, W, err)\n",
    "    \n",
    "    errors = np.array(errors)\n",
    "    \n",
    "    return errors, W"
   ]
  },
  {
   "cell_type": "markdown",
   "metadata": {},
   "source": [
    "Попробуем обучить модель с __$L_1$__ регуляцией"
   ]
  },
  {
   "cell_type": "code",
   "execution_count": 27,
   "metadata": {},
   "outputs": [
    {
     "name": "stdout",
     "output_type": "stream",
     "text": [
      "600 [ 0.13121443 -0.99127805 -0.04628782  1.44011413] 0.48843673899885187\n",
      "1200 [ 0.00760053 -1.26152174 -0.18672605  1.79411429] 0.45146683053684394\n",
      "1800 [-0.02726861 -1.47378681 -0.29520216  2.10777015] 0.4260525042359725\n",
      "2400 [-0.03859122 -1.65579393 -0.39229656  2.37854407] 0.4070894418042199\n",
      "3000 [-0.0428402  -1.81492155 -0.48057542  2.61543606] 0.39253816904557737\n",
      "3600 [-0.0449765  -1.95635009 -0.56166541  2.82504117] 0.3811592941717158\n",
      "4200 [-0.04671431 -2.08387936 -0.63667682  3.01231542] 0.3721296713651229\n",
      "4800 [-0.0487469  -2.20037916 -0.70641217  3.18105732] 0.3648854742460782\n",
      "5400 [-0.05140369 -2.30806828 -0.77147958  3.3342269 ] 0.35903151283107737\n",
      "6000 [-0.05486487 -2.40869622 -0.8323577   3.47416581] 0.35428491350016966\n"
     ]
    },
    {
     "data": {
      "text/plain": [
       "array([0.35429203, 0.35428491])"
      ]
     },
     "execution_count": 27,
     "metadata": {},
     "output_type": "execute_result"
    }
   ],
   "source": [
    "model_l1 = eval_model_l1(\n",
    "    X=standart_X,\n",
    "    y=y,\n",
    "    iterations=6000,\n",
    "    alpha=1e-2,\n",
    "    lambda_=1e-2\n",
    ")\n",
    "\n",
    "model_l1[0][-2:]"
   ]
  },
  {
   "cell_type": "markdown",
   "metadata": {},
   "source": [
    "Просмотрим результат на графике"
   ]
  },
  {
   "cell_type": "code",
   "execution_count": 28,
   "metadata": {},
   "outputs": [
    {
     "data": {
      "image/png": "[encoded data removed]",
      "text/plain": [
       "<Figure size 432x288 with 1 Axes>"
      ]
     },
     "metadata": {
      "needs_background": "light"
     },
     "output_type": "display_data"
    }
   ],
   "source": [
    "plt.plot(range(model_l1[0].shape[0]),model_l1[0])\n",
    "\n",
    "plt.grid()\n",
    "plt.show()"
   ]
  },
  {
   "cell_type": "markdown",
   "metadata": {},
   "source": [
    "Видно что с добавлением количества итераций увеличивается ошибка"
   ]
  },
  {
   "cell_type": "code",
   "execution_count": 29,
   "metadata": {},
   "outputs": [],
   "source": [
    "def eval_model_l2(X, y, iterations, lambda_, alpha=1e-4):\n",
    "    \n",
    "    np.random.seed(42)\n",
    "    W = np.random.randn(X.shape[0])\n",
    "    n = X.shape[1]\n",
    "    errors = []\n",
    "    ww = []\n",
    "    \n",
    "    for i in range(1, iterations+1):\n",
    "        z = np.dot(W, X)\n",
    "        y_pred = sigmoid(z)\n",
    "        err = calc_logloss(y, y_pred)\n",
    "        W -= alpha * (1/n * np.dot((y_pred - y), X.T) + (lambda_/2)*np.sum(W**2)) # <- l2\n",
    "        \n",
    "        errors.append(err)\n",
    "        \n",
    "        if i % (iterations / 10) == 0:\n",
    "            print(i, W, err)\n",
    "    \n",
    "    errors = np.array(errors)\n",
    "    \n",
    "    return errors, W"
   ]
  },
  {
   "cell_type": "markdown",
   "metadata": {},
   "source": [
    "Теперь обучим модель с __$L_2$__ регуляцией"
   ]
  },
  {
   "cell_type": "code",
   "execution_count": 30,
   "metadata": {},
   "outputs": [
    {
     "name": "stdout",
     "output_type": "stream",
     "text": [
      "600 [ 0.12935694 -0.99307875 -0.04809914  1.4383329 ] 0.4884012302575327\n",
      "1200 [-0.01267031 -1.27203528 -0.19725162  1.7820695 ] 0.45233911948021605\n",
      "1800 [-0.07585717 -1.49655503 -0.31673895  2.08065684] 0.42905957004441786\n",
      "2400 [-0.12378339 -1.69635925 -0.42714398  2.33142063] 0.4135579719731043\n",
      "3000 [-0.17353968 -1.8816224  -0.53119934  2.54347432] 0.4040994481372596\n",
      "3600 [-0.23086955 -2.06092315 -0.63070031  2.72410528] 0.39983349748503866\n",
      "4200 [-0.29884885 -2.24230814 -0.72723064  2.87930116] 0.40044261363937583\n",
      "4800 [-0.38006431 -2.43356681 -0.82229067  3.01438398] 0.40600340537184393\n",
      "5400 [-0.47705525 -2.64220236 -0.91731532  3.1345529 ] 0.4169009921777299\n",
      "6000 [-0.59230376 -2.87529328 -1.01376011  3.24528445] 0.43379912629628087\n"
     ]
    },
    {
     "data": {
      "text/plain": [
       "array([0.43376547, 0.43379913])"
      ]
     },
     "execution_count": 30,
     "metadata": {},
     "output_type": "execute_result"
    }
   ],
   "source": [
    "model_l2 = eval_model_l2(\n",
    "    X=standart_X,\n",
    "    y=y,\n",
    "    iterations=6000,\n",
    "    alpha=1e-2,\n",
    "    lambda_=1e-2\n",
    ")\n",
    "\n",
    "model_l2[0][-2:]"
   ]
  },
  {
   "cell_type": "code",
   "execution_count": 31,
   "metadata": {},
   "outputs": [
    {
     "data": {
      "image/png": "[encoded data removed]",
      "text/plain": [
       "<Figure size 432x288 with 1 Axes>"
      ]
     },
     "metadata": {
      "needs_background": "light"
     },
     "output_type": "display_data"
    }
   ],
   "source": [
    "plt.plot(range(model_l2[0].shape[0]),model_l2[0])\n",
    "\n",
    "plt.grid()\n",
    "plt.show()"
   ]
  },
  {
   "cell_type": "markdown",
   "metadata": {},
   "source": [
    "В сравнении с $L_1$, $L_2$ добавляет меньшую ошибку"
   ]
  }
 ],
 "metadata": {
  "kernelspec": {
   "display_name": "Python 3",
   "language": "python",
   "name": "python3"
  },
  "language_info": {
   "codemirror_mode": {
    "name": "ipython",
    "version": 3
   },
   "file_extension": ".py",
   "mimetype": "text/x-python",
   "name": "python",
   "nbconvert_exporter": "python",
   "pygments_lexer": "ipython3",
   "version": "3.7.4"
  }
 },
 "nbformat": 4,
 "nbformat_minor": 2
}
