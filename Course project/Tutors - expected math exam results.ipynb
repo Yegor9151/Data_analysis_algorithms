{
 "cells": [
  {
   "cell_type": "markdown",
   "metadata": {},
   "source": [
    "# Предсказание среднего балла на ЕГЭ по математике, задача регрессии\n",
    "\n",
    "##### Подготовка\n",
    "- Подключим библиотеки"
   ]
  },
  {
   "cell_type": "code",
   "execution_count": 1,
   "metadata": {},
   "outputs": [],
   "source": [
    "import numpy as np\n",
    "import pandas as pd\n",
    "\n",
    "import matplotlib.pyplot as plt\n",
    "from matplotlib.colors import ListedColormap\n",
    "\n",
    "from sklearn.model_selection import train_test_split\n",
    "\n",
    "import warnings"
   ]
  },
  {
   "cell_type": "markdown",
   "metadata": {},
   "source": [
    "- Настроим ноутбук"
   ]
  },
  {
   "cell_type": "code",
   "execution_count": 2,
   "metadata": {},
   "outputs": [],
   "source": [
    "warnings.filterwarnings('ignore')\n",
    "\n",
    "%matplotlib inline\n",
    "%config Inlinebackend.figure_format = 'svg'"
   ]
  },
  {
   "cell_type": "markdown",
   "metadata": {},
   "source": [
    "- Сформируем пути до файлов"
   ]
  },
  {
   "cell_type": "code",
   "execution_count": 3,
   "metadata": {},
   "outputs": [],
   "source": [
    "PATH_TO_TRAIN = 'train.csv'\n",
    "PATH_TO_FINAL = 'test.csv'"
   ]
  },
  {
   "cell_type": "markdown",
   "metadata": {},
   "source": [
    "##### Знакомство с датасетами\n",
    "\n",
    "- Просмотрим __train__"
   ]
  },
  {
   "cell_type": "code",
   "execution_count": 4,
   "metadata": {},
   "outputs": [
    {
     "data": {
      "text/html": [
       "<div>\n",
       "<style scoped>\n",
       "    .dataframe tbody tr th:only-of-type {\n",
       "        vertical-align: middle;\n",
       "    }\n",
       "\n",
       "    .dataframe tbody tr th {\n",
       "        vertical-align: top;\n",
       "    }\n",
       "\n",
       "    .dataframe thead th {\n",
       "        text-align: right;\n",
       "    }\n",
       "</style>\n",
       "<table border=\"1\" class=\"dataframe\">\n",
       "  <thead>\n",
       "    <tr style=\"text-align: right;\">\n",
       "      <th></th>\n",
       "      <th>Id</th>\n",
       "      <th>age</th>\n",
       "      <th>years_of_experience</th>\n",
       "      <th>lesson_price</th>\n",
       "      <th>qualification</th>\n",
       "      <th>physics</th>\n",
       "      <th>chemistry</th>\n",
       "      <th>biology</th>\n",
       "      <th>english</th>\n",
       "      <th>geography</th>\n",
       "      <th>history</th>\n",
       "      <th>mean_exam_points</th>\n",
       "    </tr>\n",
       "  </thead>\n",
       "  <tbody>\n",
       "    <tr>\n",
       "      <td>0</td>\n",
       "      <td>0</td>\n",
       "      <td>40.0</td>\n",
       "      <td>0.0</td>\n",
       "      <td>1400.0</td>\n",
       "      <td>1.0</td>\n",
       "      <td>1.0</td>\n",
       "      <td>0.0</td>\n",
       "      <td>0.0</td>\n",
       "      <td>0.0</td>\n",
       "      <td>1.0</td>\n",
       "      <td>0.0</td>\n",
       "      <td>63.0</td>\n",
       "    </tr>\n",
       "    <tr>\n",
       "      <td>1</td>\n",
       "      <td>1</td>\n",
       "      <td>48.0</td>\n",
       "      <td>4.0</td>\n",
       "      <td>2850.0</td>\n",
       "      <td>3.0</td>\n",
       "      <td>1.0</td>\n",
       "      <td>0.0</td>\n",
       "      <td>0.0</td>\n",
       "      <td>0.0</td>\n",
       "      <td>0.0</td>\n",
       "      <td>0.0</td>\n",
       "      <td>86.0</td>\n",
       "    </tr>\n",
       "    <tr>\n",
       "      <td>2</td>\n",
       "      <td>2</td>\n",
       "      <td>39.0</td>\n",
       "      <td>0.0</td>\n",
       "      <td>1200.0</td>\n",
       "      <td>1.0</td>\n",
       "      <td>0.0</td>\n",
       "      <td>0.0</td>\n",
       "      <td>0.0</td>\n",
       "      <td>0.0</td>\n",
       "      <td>0.0</td>\n",
       "      <td>0.0</td>\n",
       "      <td>53.0</td>\n",
       "    </tr>\n",
       "    <tr>\n",
       "      <td>3</td>\n",
       "      <td>3</td>\n",
       "      <td>46.0</td>\n",
       "      <td>5.0</td>\n",
       "      <td>1400.0</td>\n",
       "      <td>1.0</td>\n",
       "      <td>0.0</td>\n",
       "      <td>0.0</td>\n",
       "      <td>0.0</td>\n",
       "      <td>0.0</td>\n",
       "      <td>0.0</td>\n",
       "      <td>0.0</td>\n",
       "      <td>56.0</td>\n",
       "    </tr>\n",
       "    <tr>\n",
       "      <td>4</td>\n",
       "      <td>4</td>\n",
       "      <td>43.0</td>\n",
       "      <td>1.0</td>\n",
       "      <td>1500.0</td>\n",
       "      <td>1.0</td>\n",
       "      <td>0.0</td>\n",
       "      <td>0.0</td>\n",
       "      <td>0.0</td>\n",
       "      <td>0.0</td>\n",
       "      <td>0.0</td>\n",
       "      <td>0.0</td>\n",
       "      <td>59.0</td>\n",
       "    </tr>\n",
       "    <tr>\n",
       "      <td>...</td>\n",
       "      <td>...</td>\n",
       "      <td>...</td>\n",
       "      <td>...</td>\n",
       "      <td>...</td>\n",
       "      <td>...</td>\n",
       "      <td>...</td>\n",
       "      <td>...</td>\n",
       "      <td>...</td>\n",
       "      <td>...</td>\n",
       "      <td>...</td>\n",
       "      <td>...</td>\n",
       "      <td>...</td>\n",
       "    </tr>\n",
       "    <tr>\n",
       "      <td>9995</td>\n",
       "      <td>9995</td>\n",
       "      <td>44.0</td>\n",
       "      <td>0.0</td>\n",
       "      <td>1700.0</td>\n",
       "      <td>2.0</td>\n",
       "      <td>1.0</td>\n",
       "      <td>1.0</td>\n",
       "      <td>0.0</td>\n",
       "      <td>0.0</td>\n",
       "      <td>0.0</td>\n",
       "      <td>0.0</td>\n",
       "      <td>78.0</td>\n",
       "    </tr>\n",
       "    <tr>\n",
       "      <td>9996</td>\n",
       "      <td>9996</td>\n",
       "      <td>51.0</td>\n",
       "      <td>0.0</td>\n",
       "      <td>1700.0</td>\n",
       "      <td>2.0</td>\n",
       "      <td>0.0</td>\n",
       "      <td>0.0</td>\n",
       "      <td>0.0</td>\n",
       "      <td>0.0</td>\n",
       "      <td>0.0</td>\n",
       "      <td>0.0</td>\n",
       "      <td>64.0</td>\n",
       "    </tr>\n",
       "    <tr>\n",
       "      <td>9997</td>\n",
       "      <td>9997</td>\n",
       "      <td>34.0</td>\n",
       "      <td>1.0</td>\n",
       "      <td>1250.0</td>\n",
       "      <td>1.0</td>\n",
       "      <td>1.0</td>\n",
       "      <td>0.0</td>\n",
       "      <td>0.0</td>\n",
       "      <td>0.0</td>\n",
       "      <td>0.0</td>\n",
       "      <td>0.0</td>\n",
       "      <td>58.0</td>\n",
       "    </tr>\n",
       "    <tr>\n",
       "      <td>9998</td>\n",
       "      <td>9998</td>\n",
       "      <td>33.0</td>\n",
       "      <td>3.0</td>\n",
       "      <td>1100.0</td>\n",
       "      <td>1.0</td>\n",
       "      <td>0.0</td>\n",
       "      <td>0.0</td>\n",
       "      <td>0.0</td>\n",
       "      <td>0.0</td>\n",
       "      <td>0.0</td>\n",
       "      <td>0.0</td>\n",
       "      <td>51.0</td>\n",
       "    </tr>\n",
       "    <tr>\n",
       "      <td>9999</td>\n",
       "      <td>9999</td>\n",
       "      <td>35.0</td>\n",
       "      <td>0.0</td>\n",
       "      <td>1450.0</td>\n",
       "      <td>1.0</td>\n",
       "      <td>0.0</td>\n",
       "      <td>0.0</td>\n",
       "      <td>0.0</td>\n",
       "      <td>0.0</td>\n",
       "      <td>0.0</td>\n",
       "      <td>0.0</td>\n",
       "      <td>59.0</td>\n",
       "    </tr>\n",
       "  </tbody>\n",
       "</table>\n",
       "<p>10000 rows × 12 columns</p>\n",
       "</div>"
      ],
      "text/plain": [
       "        Id   age  years_of_experience  lesson_price  qualification  physics  \\\n",
       "0        0  40.0                  0.0        1400.0            1.0      1.0   \n",
       "1        1  48.0                  4.0        2850.0            3.0      1.0   \n",
       "2        2  39.0                  0.0        1200.0            1.0      0.0   \n",
       "3        3  46.0                  5.0        1400.0            1.0      0.0   \n",
       "4        4  43.0                  1.0        1500.0            1.0      0.0   \n",
       "...    ...   ...                  ...           ...            ...      ...   \n",
       "9995  9995  44.0                  0.0        1700.0            2.0      1.0   \n",
       "9996  9996  51.0                  0.0        1700.0            2.0      0.0   \n",
       "9997  9997  34.0                  1.0        1250.0            1.0      1.0   \n",
       "9998  9998  33.0                  3.0        1100.0            1.0      0.0   \n",
       "9999  9999  35.0                  0.0        1450.0            1.0      0.0   \n",
       "\n",
       "      chemistry  biology  english  geography  history  mean_exam_points  \n",
       "0           0.0      0.0      0.0        1.0      0.0              63.0  \n",
       "1           0.0      0.0      0.0        0.0      0.0              86.0  \n",
       "2           0.0      0.0      0.0        0.0      0.0              53.0  \n",
       "3           0.0      0.0      0.0        0.0      0.0              56.0  \n",
       "4           0.0      0.0      0.0        0.0      0.0              59.0  \n",
       "...         ...      ...      ...        ...      ...               ...  \n",
       "9995        1.0      0.0      0.0        0.0      0.0              78.0  \n",
       "9996        0.0      0.0      0.0        0.0      0.0              64.0  \n",
       "9997        0.0      0.0      0.0        0.0      0.0              58.0  \n",
       "9998        0.0      0.0      0.0        0.0      0.0              51.0  \n",
       "9999        0.0      0.0      0.0        0.0      0.0              59.0  \n",
       "\n",
       "[10000 rows x 12 columns]"
      ]
     },
     "execution_count": 4,
     "metadata": {},
     "output_type": "execute_result"
    }
   ],
   "source": [
    "X_y_train = pd.read_csv(PATH_TO_TRAIN)\n",
    "X_y_train"
   ]
  },
  {
   "cell_type": "code",
   "execution_count": 5,
   "metadata": {},
   "outputs": [
    {
     "name": "stdout",
     "output_type": "stream",
     "text": [
      "<class 'pandas.core.frame.DataFrame'>\n",
      "RangeIndex: 10000 entries, 0 to 9999\n",
      "Data columns (total 12 columns):\n",
      "Id                     10000 non-null int64\n",
      "age                    10000 non-null float64\n",
      "years_of_experience    10000 non-null float64\n",
      "lesson_price           10000 non-null float64\n",
      "qualification          10000 non-null float64\n",
      "physics                10000 non-null float64\n",
      "chemistry              10000 non-null float64\n",
      "biology                10000 non-null float64\n",
      "english                10000 non-null float64\n",
      "geography              10000 non-null float64\n",
      "history                10000 non-null float64\n",
      "mean_exam_points       10000 non-null float64\n",
      "dtypes: float64(11), int64(1)\n",
      "memory usage: 937.6 KB\n"
     ]
    }
   ],
   "source": [
    "X_y_train.info()"
   ]
  },
  {
   "cell_type": "markdown",
   "metadata": {},
   "source": [
    "Пропусков в данных X_y_train нет\n",
    "- Просмотрим сводные данные"
   ]
  },
  {
   "cell_type": "code",
   "execution_count": 6,
   "metadata": {},
   "outputs": [
    {
     "data": {
      "text/html": [
       "<div>\n",
       "<style scoped>\n",
       "    .dataframe tbody tr th:only-of-type {\n",
       "        vertical-align: middle;\n",
       "    }\n",
       "\n",
       "    .dataframe tbody tr th {\n",
       "        vertical-align: top;\n",
       "    }\n",
       "\n",
       "    .dataframe thead th {\n",
       "        text-align: right;\n",
       "    }\n",
       "</style>\n",
       "<table border=\"1\" class=\"dataframe\">\n",
       "  <thead>\n",
       "    <tr style=\"text-align: right;\">\n",
       "      <th></th>\n",
       "      <th>Id</th>\n",
       "      <th>age</th>\n",
       "      <th>years_of_experience</th>\n",
       "      <th>lesson_price</th>\n",
       "      <th>qualification</th>\n",
       "      <th>physics</th>\n",
       "      <th>chemistry</th>\n",
       "      <th>biology</th>\n",
       "      <th>english</th>\n",
       "      <th>geography</th>\n",
       "      <th>history</th>\n",
       "      <th>mean_exam_points</th>\n",
       "    </tr>\n",
       "  </thead>\n",
       "  <tbody>\n",
       "    <tr>\n",
       "      <td>count</td>\n",
       "      <td>10000.00000</td>\n",
       "      <td>10000.000000</td>\n",
       "      <td>10000.000000</td>\n",
       "      <td>10000.000000</td>\n",
       "      <td>10000.000000</td>\n",
       "      <td>10000.000000</td>\n",
       "      <td>10000.000000</td>\n",
       "      <td>10000.000000</td>\n",
       "      <td>10000.000000</td>\n",
       "      <td>10000.000000</td>\n",
       "      <td>10000.000000</td>\n",
       "      <td>10000.000000</td>\n",
       "    </tr>\n",
       "    <tr>\n",
       "      <td>mean</td>\n",
       "      <td>4999.50000</td>\n",
       "      <td>45.878000</td>\n",
       "      <td>1.986800</td>\n",
       "      <td>1699.105000</td>\n",
       "      <td>1.719500</td>\n",
       "      <td>0.375000</td>\n",
       "      <td>0.132900</td>\n",
       "      <td>0.109600</td>\n",
       "      <td>0.053700</td>\n",
       "      <td>0.032100</td>\n",
       "      <td>0.019400</td>\n",
       "      <td>64.340800</td>\n",
       "    </tr>\n",
       "    <tr>\n",
       "      <td>std</td>\n",
       "      <td>2886.89568</td>\n",
       "      <td>8.043929</td>\n",
       "      <td>1.772213</td>\n",
       "      <td>524.886654</td>\n",
       "      <td>0.792264</td>\n",
       "      <td>0.484147</td>\n",
       "      <td>0.339484</td>\n",
       "      <td>0.312406</td>\n",
       "      <td>0.225436</td>\n",
       "      <td>0.176274</td>\n",
       "      <td>0.137933</td>\n",
       "      <td>13.536823</td>\n",
       "    </tr>\n",
       "    <tr>\n",
       "      <td>min</td>\n",
       "      <td>0.00000</td>\n",
       "      <td>23.000000</td>\n",
       "      <td>0.000000</td>\n",
       "      <td>200.000000</td>\n",
       "      <td>1.000000</td>\n",
       "      <td>0.000000</td>\n",
       "      <td>0.000000</td>\n",
       "      <td>0.000000</td>\n",
       "      <td>0.000000</td>\n",
       "      <td>0.000000</td>\n",
       "      <td>0.000000</td>\n",
       "      <td>32.000000</td>\n",
       "    </tr>\n",
       "    <tr>\n",
       "      <td>25%</td>\n",
       "      <td>2499.75000</td>\n",
       "      <td>40.000000</td>\n",
       "      <td>0.000000</td>\n",
       "      <td>1300.000000</td>\n",
       "      <td>1.000000</td>\n",
       "      <td>0.000000</td>\n",
       "      <td>0.000000</td>\n",
       "      <td>0.000000</td>\n",
       "      <td>0.000000</td>\n",
       "      <td>0.000000</td>\n",
       "      <td>0.000000</td>\n",
       "      <td>55.000000</td>\n",
       "    </tr>\n",
       "    <tr>\n",
       "      <td>50%</td>\n",
       "      <td>4999.50000</td>\n",
       "      <td>46.000000</td>\n",
       "      <td>2.000000</td>\n",
       "      <td>1500.000000</td>\n",
       "      <td>2.000000</td>\n",
       "      <td>0.000000</td>\n",
       "      <td>0.000000</td>\n",
       "      <td>0.000000</td>\n",
       "      <td>0.000000</td>\n",
       "      <td>0.000000</td>\n",
       "      <td>0.000000</td>\n",
       "      <td>63.000000</td>\n",
       "    </tr>\n",
       "    <tr>\n",
       "      <td>75%</td>\n",
       "      <td>7499.25000</td>\n",
       "      <td>51.000000</td>\n",
       "      <td>3.000000</td>\n",
       "      <td>2150.000000</td>\n",
       "      <td>2.000000</td>\n",
       "      <td>1.000000</td>\n",
       "      <td>0.000000</td>\n",
       "      <td>0.000000</td>\n",
       "      <td>0.000000</td>\n",
       "      <td>0.000000</td>\n",
       "      <td>0.000000</td>\n",
       "      <td>73.000000</td>\n",
       "    </tr>\n",
       "    <tr>\n",
       "      <td>max</td>\n",
       "      <td>9999.00000</td>\n",
       "      <td>68.000000</td>\n",
       "      <td>10.000000</td>\n",
       "      <td>3950.000000</td>\n",
       "      <td>4.000000</td>\n",
       "      <td>1.000000</td>\n",
       "      <td>1.000000</td>\n",
       "      <td>1.000000</td>\n",
       "      <td>1.000000</td>\n",
       "      <td>1.000000</td>\n",
       "      <td>1.000000</td>\n",
       "      <td>100.000000</td>\n",
       "    </tr>\n",
       "  </tbody>\n",
       "</table>\n",
       "</div>"
      ],
      "text/plain": [
       "                Id           age  years_of_experience  lesson_price  \\\n",
       "count  10000.00000  10000.000000         10000.000000  10000.000000   \n",
       "mean    4999.50000     45.878000             1.986800   1699.105000   \n",
       "std     2886.89568      8.043929             1.772213    524.886654   \n",
       "min        0.00000     23.000000             0.000000    200.000000   \n",
       "25%     2499.75000     40.000000             0.000000   1300.000000   \n",
       "50%     4999.50000     46.000000             2.000000   1500.000000   \n",
       "75%     7499.25000     51.000000             3.000000   2150.000000   \n",
       "max     9999.00000     68.000000            10.000000   3950.000000   \n",
       "\n",
       "       qualification       physics     chemistry       biology       english  \\\n",
       "count   10000.000000  10000.000000  10000.000000  10000.000000  10000.000000   \n",
       "mean        1.719500      0.375000      0.132900      0.109600      0.053700   \n",
       "std         0.792264      0.484147      0.339484      0.312406      0.225436   \n",
       "min         1.000000      0.000000      0.000000      0.000000      0.000000   \n",
       "25%         1.000000      0.000000      0.000000      0.000000      0.000000   \n",
       "50%         2.000000      0.000000      0.000000      0.000000      0.000000   \n",
       "75%         2.000000      1.000000      0.000000      0.000000      0.000000   \n",
       "max         4.000000      1.000000      1.000000      1.000000      1.000000   \n",
       "\n",
       "          geography       history  mean_exam_points  \n",
       "count  10000.000000  10000.000000      10000.000000  \n",
       "mean       0.032100      0.019400         64.340800  \n",
       "std        0.176274      0.137933         13.536823  \n",
       "min        0.000000      0.000000         32.000000  \n",
       "25%        0.000000      0.000000         55.000000  \n",
       "50%        0.000000      0.000000         63.000000  \n",
       "75%        0.000000      0.000000         73.000000  \n",
       "max        1.000000      1.000000        100.000000  "
      ]
     },
     "execution_count": 6,
     "metadata": {},
     "output_type": "execute_result"
    }
   ],
   "source": [
    "X_y_train.describe()"
   ]
  },
  {
   "cell_type": "markdown",
   "metadata": {},
   "source": [
    "Наблюдается один __аномальный__ показатель в средней оценке - максимальный показатель 100 баллов\n",
    "- Просмотрим __test__"
   ]
  },
  {
   "cell_type": "code",
   "execution_count": 7,
   "metadata": {},
   "outputs": [
    {
     "data": {
      "text/html": [
       "<div>\n",
       "<style scoped>\n",
       "    .dataframe tbody tr th:only-of-type {\n",
       "        vertical-align: middle;\n",
       "    }\n",
       "\n",
       "    .dataframe tbody tr th {\n",
       "        vertical-align: top;\n",
       "    }\n",
       "\n",
       "    .dataframe thead th {\n",
       "        text-align: right;\n",
       "    }\n",
       "</style>\n",
       "<table border=\"1\" class=\"dataframe\">\n",
       "  <thead>\n",
       "    <tr style=\"text-align: right;\">\n",
       "      <th></th>\n",
       "      <th>Id</th>\n",
       "      <th>age</th>\n",
       "      <th>years_of_experience</th>\n",
       "      <th>lesson_price</th>\n",
       "      <th>qualification</th>\n",
       "      <th>physics</th>\n",
       "      <th>chemistry</th>\n",
       "      <th>biology</th>\n",
       "      <th>english</th>\n",
       "      <th>geography</th>\n",
       "      <th>history</th>\n",
       "    </tr>\n",
       "  </thead>\n",
       "  <tbody>\n",
       "    <tr>\n",
       "      <td>0</td>\n",
       "      <td>10000</td>\n",
       "      <td>46.0</td>\n",
       "      <td>3.0</td>\n",
       "      <td>1050.0</td>\n",
       "      <td>1.0</td>\n",
       "      <td>0.0</td>\n",
       "      <td>1.0</td>\n",
       "      <td>0.0</td>\n",
       "      <td>0.0</td>\n",
       "      <td>0.0</td>\n",
       "      <td>0.0</td>\n",
       "    </tr>\n",
       "    <tr>\n",
       "      <td>1</td>\n",
       "      <td>10001</td>\n",
       "      <td>43.0</td>\n",
       "      <td>3.0</td>\n",
       "      <td>1850.0</td>\n",
       "      <td>2.0</td>\n",
       "      <td>0.0</td>\n",
       "      <td>0.0</td>\n",
       "      <td>0.0</td>\n",
       "      <td>0.0</td>\n",
       "      <td>0.0</td>\n",
       "      <td>0.0</td>\n",
       "    </tr>\n",
       "    <tr>\n",
       "      <td>2</td>\n",
       "      <td>10002</td>\n",
       "      <td>52.0</td>\n",
       "      <td>1.0</td>\n",
       "      <td>1550.0</td>\n",
       "      <td>1.0</td>\n",
       "      <td>1.0</td>\n",
       "      <td>0.0</td>\n",
       "      <td>0.0</td>\n",
       "      <td>0.0</td>\n",
       "      <td>0.0</td>\n",
       "      <td>0.0</td>\n",
       "    </tr>\n",
       "    <tr>\n",
       "      <td>3</td>\n",
       "      <td>10003</td>\n",
       "      <td>57.0</td>\n",
       "      <td>6.0</td>\n",
       "      <td>2900.0</td>\n",
       "      <td>3.0</td>\n",
       "      <td>1.0</td>\n",
       "      <td>0.0</td>\n",
       "      <td>1.0</td>\n",
       "      <td>0.0</td>\n",
       "      <td>0.0</td>\n",
       "      <td>0.0</td>\n",
       "    </tr>\n",
       "    <tr>\n",
       "      <td>4</td>\n",
       "      <td>10004</td>\n",
       "      <td>44.0</td>\n",
       "      <td>4.0</td>\n",
       "      <td>3150.0</td>\n",
       "      <td>3.0</td>\n",
       "      <td>1.0</td>\n",
       "      <td>0.0</td>\n",
       "      <td>0.0</td>\n",
       "      <td>0.0</td>\n",
       "      <td>0.0</td>\n",
       "      <td>0.0</td>\n",
       "    </tr>\n",
       "    <tr>\n",
       "      <td>...</td>\n",
       "      <td>...</td>\n",
       "      <td>...</td>\n",
       "      <td>...</td>\n",
       "      <td>...</td>\n",
       "      <td>...</td>\n",
       "      <td>...</td>\n",
       "      <td>...</td>\n",
       "      <td>...</td>\n",
       "      <td>...</td>\n",
       "      <td>...</td>\n",
       "      <td>...</td>\n",
       "    </tr>\n",
       "    <tr>\n",
       "      <td>9995</td>\n",
       "      <td>19995</td>\n",
       "      <td>42.0</td>\n",
       "      <td>0.0</td>\n",
       "      <td>1500.0</td>\n",
       "      <td>1.0</td>\n",
       "      <td>0.0</td>\n",
       "      <td>0.0</td>\n",
       "      <td>0.0</td>\n",
       "      <td>0.0</td>\n",
       "      <td>0.0</td>\n",
       "      <td>0.0</td>\n",
       "    </tr>\n",
       "    <tr>\n",
       "      <td>9996</td>\n",
       "      <td>19996</td>\n",
       "      <td>51.0</td>\n",
       "      <td>2.0</td>\n",
       "      <td>2200.0</td>\n",
       "      <td>3.0</td>\n",
       "      <td>0.0</td>\n",
       "      <td>1.0</td>\n",
       "      <td>0.0</td>\n",
       "      <td>0.0</td>\n",
       "      <td>0.0</td>\n",
       "      <td>0.0</td>\n",
       "    </tr>\n",
       "    <tr>\n",
       "      <td>9997</td>\n",
       "      <td>19997</td>\n",
       "      <td>33.0</td>\n",
       "      <td>5.0</td>\n",
       "      <td>1100.0</td>\n",
       "      <td>1.0</td>\n",
       "      <td>0.0</td>\n",
       "      <td>0.0</td>\n",
       "      <td>0.0</td>\n",
       "      <td>0.0</td>\n",
       "      <td>0.0</td>\n",
       "      <td>0.0</td>\n",
       "    </tr>\n",
       "    <tr>\n",
       "      <td>9998</td>\n",
       "      <td>19998</td>\n",
       "      <td>48.0</td>\n",
       "      <td>0.0</td>\n",
       "      <td>1750.0</td>\n",
       "      <td>2.0</td>\n",
       "      <td>0.0</td>\n",
       "      <td>0.0</td>\n",
       "      <td>0.0</td>\n",
       "      <td>0.0</td>\n",
       "      <td>0.0</td>\n",
       "      <td>0.0</td>\n",
       "    </tr>\n",
       "    <tr>\n",
       "      <td>9999</td>\n",
       "      <td>19999</td>\n",
       "      <td>49.0</td>\n",
       "      <td>5.0</td>\n",
       "      <td>2000.0</td>\n",
       "      <td>2.0</td>\n",
       "      <td>1.0</td>\n",
       "      <td>0.0</td>\n",
       "      <td>0.0</td>\n",
       "      <td>0.0</td>\n",
       "      <td>0.0</td>\n",
       "      <td>0.0</td>\n",
       "    </tr>\n",
       "  </tbody>\n",
       "</table>\n",
       "<p>10000 rows × 11 columns</p>\n",
       "</div>"
      ],
      "text/plain": [
       "         Id   age  years_of_experience  lesson_price  qualification  physics  \\\n",
       "0     10000  46.0                  3.0        1050.0            1.0      0.0   \n",
       "1     10001  43.0                  3.0        1850.0            2.0      0.0   \n",
       "2     10002  52.0                  1.0        1550.0            1.0      1.0   \n",
       "3     10003  57.0                  6.0        2900.0            3.0      1.0   \n",
       "4     10004  44.0                  4.0        3150.0            3.0      1.0   \n",
       "...     ...   ...                  ...           ...            ...      ...   \n",
       "9995  19995  42.0                  0.0        1500.0            1.0      0.0   \n",
       "9996  19996  51.0                  2.0        2200.0            3.0      0.0   \n",
       "9997  19997  33.0                  5.0        1100.0            1.0      0.0   \n",
       "9998  19998  48.0                  0.0        1750.0            2.0      0.0   \n",
       "9999  19999  49.0                  5.0        2000.0            2.0      1.0   \n",
       "\n",
       "      chemistry  biology  english  geography  history  \n",
       "0           1.0      0.0      0.0        0.0      0.0  \n",
       "1           0.0      0.0      0.0        0.0      0.0  \n",
       "2           0.0      0.0      0.0        0.0      0.0  \n",
       "3           0.0      1.0      0.0        0.0      0.0  \n",
       "4           0.0      0.0      0.0        0.0      0.0  \n",
       "...         ...      ...      ...        ...      ...  \n",
       "9995        0.0      0.0      0.0        0.0      0.0  \n",
       "9996        1.0      0.0      0.0        0.0      0.0  \n",
       "9997        0.0      0.0      0.0        0.0      0.0  \n",
       "9998        0.0      0.0      0.0        0.0      0.0  \n",
       "9999        0.0      0.0      0.0        0.0      0.0  \n",
       "\n",
       "[10000 rows x 11 columns]"
      ]
     },
     "execution_count": 7,
     "metadata": {},
     "output_type": "execute_result"
    }
   ],
   "source": [
    "X_final = pd.read_csv(PATH_TO_FINAL)\n",
    "X_final"
   ]
  },
  {
   "cell_type": "code",
   "execution_count": 8,
   "metadata": {},
   "outputs": [
    {
     "name": "stdout",
     "output_type": "stream",
     "text": [
      "<class 'pandas.core.frame.DataFrame'>\n",
      "RangeIndex: 10000 entries, 0 to 9999\n",
      "Data columns (total 11 columns):\n",
      "Id                     10000 non-null int64\n",
      "age                    10000 non-null float64\n",
      "years_of_experience    10000 non-null float64\n",
      "lesson_price           10000 non-null float64\n",
      "qualification          10000 non-null float64\n",
      "physics                10000 non-null float64\n",
      "chemistry              10000 non-null float64\n",
      "biology                10000 non-null float64\n",
      "english                10000 non-null float64\n",
      "geography              10000 non-null float64\n",
      "history                10000 non-null float64\n",
      "dtypes: float64(10), int64(1)\n",
      "memory usage: 859.5 KB\n"
     ]
    }
   ],
   "source": [
    "X_final.info()"
   ]
  },
  {
   "cell_type": "markdown",
   "metadata": {},
   "source": [
    "Пропусков в данных X_test нет\n",
    "- Просмотрим сводные данные"
   ]
  },
  {
   "cell_type": "code",
   "execution_count": 9,
   "metadata": {},
   "outputs": [
    {
     "data": {
      "text/html": [
       "<div>\n",
       "<style scoped>\n",
       "    .dataframe tbody tr th:only-of-type {\n",
       "        vertical-align: middle;\n",
       "    }\n",
       "\n",
       "    .dataframe tbody tr th {\n",
       "        vertical-align: top;\n",
       "    }\n",
       "\n",
       "    .dataframe thead th {\n",
       "        text-align: right;\n",
       "    }\n",
       "</style>\n",
       "<table border=\"1\" class=\"dataframe\">\n",
       "  <thead>\n",
       "    <tr style=\"text-align: right;\">\n",
       "      <th></th>\n",
       "      <th>Id</th>\n",
       "      <th>age</th>\n",
       "      <th>years_of_experience</th>\n",
       "      <th>lesson_price</th>\n",
       "      <th>qualification</th>\n",
       "      <th>physics</th>\n",
       "      <th>chemistry</th>\n",
       "      <th>biology</th>\n",
       "      <th>english</th>\n",
       "      <th>geography</th>\n",
       "      <th>history</th>\n",
       "    </tr>\n",
       "  </thead>\n",
       "  <tbody>\n",
       "    <tr>\n",
       "      <td>count</td>\n",
       "      <td>10000.00000</td>\n",
       "      <td>10000.00000</td>\n",
       "      <td>10000.000000</td>\n",
       "      <td>10000.000000</td>\n",
       "      <td>10000.000000</td>\n",
       "      <td>10000.00000</td>\n",
       "      <td>10000.000000</td>\n",
       "      <td>10000.000000</td>\n",
       "      <td>10000.000000</td>\n",
       "      <td>10000.000000</td>\n",
       "      <td>10000.0000</td>\n",
       "    </tr>\n",
       "    <tr>\n",
       "      <td>mean</td>\n",
       "      <td>14999.50000</td>\n",
       "      <td>45.97280</td>\n",
       "      <td>1.980000</td>\n",
       "      <td>1697.095000</td>\n",
       "      <td>1.709400</td>\n",
       "      <td>0.38130</td>\n",
       "      <td>0.123500</td>\n",
       "      <td>0.120100</td>\n",
       "      <td>0.056000</td>\n",
       "      <td>0.031400</td>\n",
       "      <td>0.0184</td>\n",
       "    </tr>\n",
       "    <tr>\n",
       "      <td>std</td>\n",
       "      <td>2886.89568</td>\n",
       "      <td>7.95628</td>\n",
       "      <td>1.783289</td>\n",
       "      <td>524.262621</td>\n",
       "      <td>0.793483</td>\n",
       "      <td>0.48573</td>\n",
       "      <td>0.329027</td>\n",
       "      <td>0.325095</td>\n",
       "      <td>0.229933</td>\n",
       "      <td>0.174405</td>\n",
       "      <td>0.1344</td>\n",
       "    </tr>\n",
       "    <tr>\n",
       "      <td>min</td>\n",
       "      <td>10000.00000</td>\n",
       "      <td>23.00000</td>\n",
       "      <td>0.000000</td>\n",
       "      <td>200.000000</td>\n",
       "      <td>1.000000</td>\n",
       "      <td>0.00000</td>\n",
       "      <td>0.000000</td>\n",
       "      <td>0.000000</td>\n",
       "      <td>0.000000</td>\n",
       "      <td>0.000000</td>\n",
       "      <td>0.0000</td>\n",
       "    </tr>\n",
       "    <tr>\n",
       "      <td>25%</td>\n",
       "      <td>12499.75000</td>\n",
       "      <td>41.00000</td>\n",
       "      <td>0.000000</td>\n",
       "      <td>1300.000000</td>\n",
       "      <td>1.000000</td>\n",
       "      <td>0.00000</td>\n",
       "      <td>0.000000</td>\n",
       "      <td>0.000000</td>\n",
       "      <td>0.000000</td>\n",
       "      <td>0.000000</td>\n",
       "      <td>0.0000</td>\n",
       "    </tr>\n",
       "    <tr>\n",
       "      <td>50%</td>\n",
       "      <td>14999.50000</td>\n",
       "      <td>46.00000</td>\n",
       "      <td>2.000000</td>\n",
       "      <td>1500.000000</td>\n",
       "      <td>2.000000</td>\n",
       "      <td>0.00000</td>\n",
       "      <td>0.000000</td>\n",
       "      <td>0.000000</td>\n",
       "      <td>0.000000</td>\n",
       "      <td>0.000000</td>\n",
       "      <td>0.0000</td>\n",
       "    </tr>\n",
       "    <tr>\n",
       "      <td>75%</td>\n",
       "      <td>17499.25000</td>\n",
       "      <td>51.00000</td>\n",
       "      <td>3.000000</td>\n",
       "      <td>2150.000000</td>\n",
       "      <td>2.000000</td>\n",
       "      <td>1.00000</td>\n",
       "      <td>0.000000</td>\n",
       "      <td>0.000000</td>\n",
       "      <td>0.000000</td>\n",
       "      <td>0.000000</td>\n",
       "      <td>0.0000</td>\n",
       "    </tr>\n",
       "    <tr>\n",
       "      <td>max</td>\n",
       "      <td>19999.00000</td>\n",
       "      <td>68.00000</td>\n",
       "      <td>10.000000</td>\n",
       "      <td>4050.000000</td>\n",
       "      <td>4.000000</td>\n",
       "      <td>1.00000</td>\n",
       "      <td>1.000000</td>\n",
       "      <td>1.000000</td>\n",
       "      <td>1.000000</td>\n",
       "      <td>1.000000</td>\n",
       "      <td>1.0000</td>\n",
       "    </tr>\n",
       "  </tbody>\n",
       "</table>\n",
       "</div>"
      ],
      "text/plain": [
       "                Id          age  years_of_experience  lesson_price  \\\n",
       "count  10000.00000  10000.00000         10000.000000  10000.000000   \n",
       "mean   14999.50000     45.97280             1.980000   1697.095000   \n",
       "std     2886.89568      7.95628             1.783289    524.262621   \n",
       "min    10000.00000     23.00000             0.000000    200.000000   \n",
       "25%    12499.75000     41.00000             0.000000   1300.000000   \n",
       "50%    14999.50000     46.00000             2.000000   1500.000000   \n",
       "75%    17499.25000     51.00000             3.000000   2150.000000   \n",
       "max    19999.00000     68.00000            10.000000   4050.000000   \n",
       "\n",
       "       qualification      physics     chemistry       biology       english  \\\n",
       "count   10000.000000  10000.00000  10000.000000  10000.000000  10000.000000   \n",
       "mean        1.709400      0.38130      0.123500      0.120100      0.056000   \n",
       "std         0.793483      0.48573      0.329027      0.325095      0.229933   \n",
       "min         1.000000      0.00000      0.000000      0.000000      0.000000   \n",
       "25%         1.000000      0.00000      0.000000      0.000000      0.000000   \n",
       "50%         2.000000      0.00000      0.000000      0.000000      0.000000   \n",
       "75%         2.000000      1.00000      0.000000      0.000000      0.000000   \n",
       "max         4.000000      1.00000      1.000000      1.000000      1.000000   \n",
       "\n",
       "          geography     history  \n",
       "count  10000.000000  10000.0000  \n",
       "mean       0.031400      0.0184  \n",
       "std        0.174405      0.1344  \n",
       "min        0.000000      0.0000  \n",
       "25%        0.000000      0.0000  \n",
       "50%        0.000000      0.0000  \n",
       "75%        0.000000      0.0000  \n",
       "max        1.000000      1.0000  "
      ]
     },
     "execution_count": 9,
     "metadata": {},
     "output_type": "execute_result"
    }
   ],
   "source": [
    "X_final.describe()"
   ]
  },
  {
   "cell_type": "markdown",
   "metadata": {},
   "source": [
    "Аномальных отклонений от X_y_train не наблюдается"
   ]
  },
  {
   "cell_type": "markdown",
   "metadata": {},
   "source": [
    "##### Анализируем данные\n",
    "\n",
    "Кокие фичи имеют корреляции со стедним баллом?\n",
    "- Создадим функцию для быстрого подсчета __корреяции__ для X_y_train в данном ноутбуке"
   ]
  },
  {
   "cell_type": "code",
   "execution_count": 10,
   "metadata": {},
   "outputs": [],
   "source": [
    "def correlation():\n",
    "    \n",
    "    corr_table = X_y_train.corr()\n",
    "    drop_row = corr_table.drop(['mean_exam_points','Id'], axis=0)\n",
    "    sort_values = drop_row.sort_values('mean_exam_points', ascending=False)*100\n",
    "    coef = round(sort_values['mean_exam_points'], 2)\n",
    "    \n",
    "    print(coef)\n",
    "\n",
    "    plt.figure(figsize=(12,4))\n",
    "\n",
    "    coef.plot(kind='barh')\n",
    "\n",
    "    plt.title('Correlation with mean pounts', fontsize=16)\n",
    "    plt.xlabel('coefficient', fontsize=14)\n",
    "    \n",
    "    plt.grid()"
   ]
  },
  {
   "cell_type": "markdown",
   "metadata": {},
   "source": [
    "- Просмотрим сводку по корреляции"
   ]
  },
  {
   "cell_type": "code",
   "execution_count": 11,
   "metadata": {},
   "outputs": [
    {
     "name": "stdout",
     "output_type": "stream",
     "text": [
      "qualification          75.60\n",
      "lesson_price           72.12\n",
      "years_of_experience    20.54\n",
      "physics                18.77\n",
      "biology                 2.30\n",
      "chemistry               1.78\n",
      "geography               1.44\n",
      "english                 1.32\n",
      "history                -0.01\n",
      "age                    -0.76\n",
      "Name: mean_exam_points, dtype: float64\n"
     ]
    },
    {
     "data": {
      "image/png": "[encoded data removed]",
      "text/plain": [
       "<Figure size 864x288 with 1 Axes>"
      ]
     },
     "metadata": {
      "needs_background": "light"
     },
     "output_type": "display_data"
    }
   ],
   "source": [
    "correlation()"
   ]
  },
  {
   "cell_type": "markdown",
   "metadata": {},
   "source": [
    "Таблица показывает, что на среднюю оценку положительно коррелирует с такими фичами как:\n",
    "- квалификация\n",
    "- стоимость\n",
    "- опыт\n",
    "- физика\n",
    "\n",
    "Так как квалификация имеет определенное число категорий, было бы интересно узнать как __категории квалификации__ распологаются друг по отношению к другу в зависимости от таких показателей как __цена__ и __средний балл__\n",
    "\n",
    "- построим карту квалификаций по цене и среднем бале"
   ]
  },
  {
   "cell_type": "code",
   "execution_count": 12,
   "metadata": {},
   "outputs": [],
   "source": [
    "first = X_y_train[X_y_train['qualification'] == 1]\n",
    "second = X_y_train[X_y_train['qualification'] == 2]\n",
    "third = X_y_train[X_y_train['qualification'] == 3]\n",
    "four = X_y_train[X_y_train['qualification'] == 4]"
   ]
  },
  {
   "cell_type": "code",
   "execution_count": 13,
   "metadata": {},
   "outputs": [],
   "source": [
    "title_setup = {'fontsize': 16}\n",
    "label_setup = {'fontsize': 14}"
   ]
  },
  {
   "cell_type": "code",
   "execution_count": 14,
   "metadata": {},
   "outputs": [
    {
     "data": {
      "image/png": "[encoded data removed]",
      "text/plain": [
       "<Figure size 576x576 with 1 Axes>"
      ]
     },
     "metadata": {
      "needs_background": "light"
     },
     "output_type": "display_data"
    }
   ],
   "source": [
    "plt.figure(figsize=(8,8))\n",
    "plt.scatter(\n",
    "    X_y_train['lesson_price'], \n",
    "    X_y_train['mean_exam_points'], \n",
    "    c=X_y_train['qualification']\n",
    ")\n",
    "\n",
    "plt.title('Qualification map', fontdict=title_setup)\n",
    "\n",
    "plt.xlabel('price', fontdict=label_setup)\n",
    "plt.ylabel('point', fontdict=label_setup)\n",
    "\n",
    "plt.show()"
   ]
  },
  {
   "cell_type": "markdown",
   "metadata": {},
   "source": [
    "На карте видно, что категории имеют определенные зоны, и по мере __повышения квалификации__ повышается __цена__ и средний __балл__<br>\n",
    "- Посмотрим распределение квалификаций в на бинах в разных предметах"
   ]
  },
  {
   "cell_type": "code",
   "execution_count": 15,
   "metadata": {},
   "outputs": [],
   "source": [
    "physics = X_y_train[X_y_train['physics'] == 1]\n",
    "biology = X_y_train[X_y_train['biology'] == 1]\n",
    "chemistry = X_y_train[X_y_train['chemistry'] == 1]\n",
    "geography = X_y_train[X_y_train['geography'] == 1]\n",
    "english = X_y_train[X_y_train['english'] == 1]\n",
    "history = X_y_train[X_y_train['history'] == 1]"
   ]
  },
  {
   "cell_type": "code",
   "execution_count": 16,
   "metadata": {},
   "outputs": [],
   "source": [
    "phys_ax = physics['qualification'].value_counts()\n",
    "bio_ax = biology['qualification'].value_counts()\n",
    "chem_ax = chemistry['qualification'].value_counts()\n",
    "geo_ax = geography['qualification'].value_counts()\n",
    "eng_ax = english['qualification'].value_counts()\n",
    "hist_ax = history['qualification'].value_counts()"
   ]
  },
  {
   "cell_type": "code",
   "execution_count": 17,
   "metadata": {
    "scrolled": false
   },
   "outputs": [
    {
     "data": {
      "image/png": "[encoded data removed]",
      "text/plain": [
       "<Figure size 1008x864 with 6 Axes>"
      ]
     },
     "metadata": {
      "needs_background": "light"
     },
     "output_type": "display_data"
    }
   ],
   "source": [
    "fig, ax = plt.subplots(nrows=3, ncols=2)\n",
    "\n",
    "ax1, ax2, ax3, ax4, ax5, ax6 = ax.flatten()\n",
    "\n",
    "ax1.bar(phys_ax.index, phys_ax.values)\n",
    "ax1.set_title('physics')\n",
    "ax1.grid(axis='y')\n",
    "\n",
    "ax2.bar(bio_ax.index, bio_ax.values)\n",
    "ax2.set_title('biology')\n",
    "ax2.grid(axis='y')\n",
    "\n",
    "ax3.bar(chem_ax.index, chem_ax.values)\n",
    "ax3.set_title('chemistry')\n",
    "ax3.grid(axis='y')\n",
    "\n",
    "ax4.bar(geo_ax.index, geo_ax.values)\n",
    "ax4.set_title('geography')\n",
    "ax4.grid(axis='y')\n",
    "\n",
    "ax5.bar(eng_ax.index, eng_ax.values)\n",
    "ax5.set_title('english')\n",
    "ax5.grid(axis='y')\n",
    "\n",
    "ax6.bar(hist_ax.index, hist_ax.values)\n",
    "ax6.set_title('history')\n",
    "ax6.grid(axis='y')\n",
    "\n",
    "fig.set_size_inches(14, 12)\n",
    "plt.subplots_adjust(wspace=0.1, hspace=0.3)"
   ]
  },
  {
   "cell_type": "markdown",
   "metadata": {},
   "source": [
    "##### Добавление фичей\n",
    "\n",
    "- Создадим класс в который будем добавлять разработанные фичи"
   ]
  },
  {
   "cell_type": "code",
   "execution_count": 18,
   "metadata": {},
   "outputs": [],
   "source": [
    "class Preprocessing:\n",
    "    '''Класс - предобработки параметров параметров'''\n",
    "        \n",
    "    def age_groups(self, df):\n",
    "        '''группировка по возрастам'''\n",
    "        \n",
    "        df = df[:]\n",
    "        \n",
    "        df.loc[(df['age'] <= 25), 'age_groups'] = 1\n",
    "        df.loc[(df['age'] > 25) & (df['age'] <= 29), 'age_groups'] = 2\n",
    "        df.loc[(df['age'] > 29) & (df['age'] <= 41), 'age_groups'] = 3\n",
    "        df.loc[(df['age'] > 41) & (df['age'] <= 52), 'age_groups'] = 4\n",
    "        df.loc[(df['age'] > 52), 'age_groups'] = 5\n",
    "        \n",
    "        return df\n",
    "    \n",
    "    def multidisciplinary(self, df):\n",
    "        '''сумма дисциплин одного репетитора'''\n",
    "        \n",
    "        df = df[:]\n",
    "        \n",
    "        df['multidisciplinary'] = df[['physics', 'biology', 'chemistry', 'geography', 'english', 'history']].sum(axis=1)\n",
    "        \n",
    "        return df\n",
    "    \n",
    "    def zero_disciplinary(self, df):\n",
    "        '''отсутстыие предмета'''\n",
    "        \n",
    "        df = df[:]\n",
    "        \n",
    "        df.loc[(df['multidisciplinary'] == 0),'zero_disciplinary'] = 1\n",
    "        df.loc[(df['multidisciplinary'] > 0),'zero_disciplinary'] = 0\n",
    "        \n",
    "        return df\n",
    "    \n",
    "    def price_per_qualification(self, df):\n",
    "        '''цена на уровень квалификации'''\n",
    "        \n",
    "        df = df[:]\n",
    "        \n",
    "        df['price_per_qualification'] = (df['lesson_price'] / df['qualification'])\n",
    "        \n",
    "        return df\n",
    "    \n",
    "    def coef_of_cpecialize(self, df):\n",
    "        '''цена на уровень квалификации'''\n",
    "        \n",
    "        df = df[:]\n",
    "        \n",
    "        df.loc[(df['multidisciplinary'] > 0), 'coef_of_cpecialize'] =\\\n",
    "            df['qualification'] / df[df['multidisciplinary'] > 0]['multidisciplinary']\n",
    "\n",
    "        df.loc[(df['multidisciplinary'] == 0), 'coef_of_cpecialize'] = 0\n",
    "        \n",
    "        return df\n",
    "    \n",
    "    def dimensionality(self, df):\n",
    "        \n",
    "        df = df[:]\n",
    "        df = df.drop(['physics', 'biology', 'chemistry', 'geography', 'english'], axis=1)\n",
    "        \n",
    "        return df\n",
    "    \n",
    "    def pipline(self, df):\n",
    "        '''последовательное выполнение'''\n",
    "        \n",
    "        df = df[:]\n",
    "        \n",
    "        # добавляем новые фичи\n",
    "        df = self.age_groups(df)\n",
    "        df = self.multidisciplinary(df)\n",
    "        df = self.zero_disciplinary(df)\n",
    "        df = self.price_per_qualification(df)\n",
    "        df = self.coef_of_cpecialize(df)\n",
    "        \n",
    "        # удаляем спорные фичи\n",
    "        df = self.dimensionality(df)\n",
    "        \n",
    "        return df"
   ]
  },
  {
   "cell_type": "code",
   "execution_count": 19,
   "metadata": {},
   "outputs": [
    {
     "data": {
      "text/html": [
       "<div>\n",
       "<style scoped>\n",
       "    .dataframe tbody tr th:only-of-type {\n",
       "        vertical-align: middle;\n",
       "    }\n",
       "\n",
       "    .dataframe tbody tr th {\n",
       "        vertical-align: top;\n",
       "    }\n",
       "\n",
       "    .dataframe thead th {\n",
       "        text-align: right;\n",
       "    }\n",
       "</style>\n",
       "<table border=\"1\" class=\"dataframe\">\n",
       "  <thead>\n",
       "    <tr style=\"text-align: right;\">\n",
       "      <th></th>\n",
       "      <th>Id</th>\n",
       "      <th>age</th>\n",
       "      <th>years_of_experience</th>\n",
       "      <th>lesson_price</th>\n",
       "      <th>qualification</th>\n",
       "      <th>physics</th>\n",
       "      <th>chemistry</th>\n",
       "      <th>biology</th>\n",
       "      <th>english</th>\n",
       "      <th>geography</th>\n",
       "      <th>history</th>\n",
       "      <th>mean_exam_points</th>\n",
       "    </tr>\n",
       "  </thead>\n",
       "  <tbody>\n",
       "    <tr>\n",
       "      <td>0</td>\n",
       "      <td>0</td>\n",
       "      <td>40.0</td>\n",
       "      <td>0.0</td>\n",
       "      <td>1400.0</td>\n",
       "      <td>1.0</td>\n",
       "      <td>1.0</td>\n",
       "      <td>0.0</td>\n",
       "      <td>0.0</td>\n",
       "      <td>0.0</td>\n",
       "      <td>1.0</td>\n",
       "      <td>0.0</td>\n",
       "      <td>63.0</td>\n",
       "    </tr>\n",
       "    <tr>\n",
       "      <td>1</td>\n",
       "      <td>1</td>\n",
       "      <td>48.0</td>\n",
       "      <td>4.0</td>\n",
       "      <td>2850.0</td>\n",
       "      <td>3.0</td>\n",
       "      <td>1.0</td>\n",
       "      <td>0.0</td>\n",
       "      <td>0.0</td>\n",
       "      <td>0.0</td>\n",
       "      <td>0.0</td>\n",
       "      <td>0.0</td>\n",
       "      <td>86.0</td>\n",
       "    </tr>\n",
       "    <tr>\n",
       "      <td>2</td>\n",
       "      <td>2</td>\n",
       "      <td>39.0</td>\n",
       "      <td>0.0</td>\n",
       "      <td>1200.0</td>\n",
       "      <td>1.0</td>\n",
       "      <td>0.0</td>\n",
       "      <td>0.0</td>\n",
       "      <td>0.0</td>\n",
       "      <td>0.0</td>\n",
       "      <td>0.0</td>\n",
       "      <td>0.0</td>\n",
       "      <td>53.0</td>\n",
       "    </tr>\n",
       "    <tr>\n",
       "      <td>3</td>\n",
       "      <td>3</td>\n",
       "      <td>46.0</td>\n",
       "      <td>5.0</td>\n",
       "      <td>1400.0</td>\n",
       "      <td>1.0</td>\n",
       "      <td>0.0</td>\n",
       "      <td>0.0</td>\n",
       "      <td>0.0</td>\n",
       "      <td>0.0</td>\n",
       "      <td>0.0</td>\n",
       "      <td>0.0</td>\n",
       "      <td>56.0</td>\n",
       "    </tr>\n",
       "    <tr>\n",
       "      <td>4</td>\n",
       "      <td>4</td>\n",
       "      <td>43.0</td>\n",
       "      <td>1.0</td>\n",
       "      <td>1500.0</td>\n",
       "      <td>1.0</td>\n",
       "      <td>0.0</td>\n",
       "      <td>0.0</td>\n",
       "      <td>0.0</td>\n",
       "      <td>0.0</td>\n",
       "      <td>0.0</td>\n",
       "      <td>0.0</td>\n",
       "      <td>59.0</td>\n",
       "    </tr>\n",
       "    <tr>\n",
       "      <td>...</td>\n",
       "      <td>...</td>\n",
       "      <td>...</td>\n",
       "      <td>...</td>\n",
       "      <td>...</td>\n",
       "      <td>...</td>\n",
       "      <td>...</td>\n",
       "      <td>...</td>\n",
       "      <td>...</td>\n",
       "      <td>...</td>\n",
       "      <td>...</td>\n",
       "      <td>...</td>\n",
       "      <td>...</td>\n",
       "    </tr>\n",
       "    <tr>\n",
       "      <td>9995</td>\n",
       "      <td>9995</td>\n",
       "      <td>44.0</td>\n",
       "      <td>0.0</td>\n",
       "      <td>1700.0</td>\n",
       "      <td>2.0</td>\n",
       "      <td>1.0</td>\n",
       "      <td>1.0</td>\n",
       "      <td>0.0</td>\n",
       "      <td>0.0</td>\n",
       "      <td>0.0</td>\n",
       "      <td>0.0</td>\n",
       "      <td>78.0</td>\n",
       "    </tr>\n",
       "    <tr>\n",
       "      <td>9996</td>\n",
       "      <td>9996</td>\n",
       "      <td>51.0</td>\n",
       "      <td>0.0</td>\n",
       "      <td>1700.0</td>\n",
       "      <td>2.0</td>\n",
       "      <td>0.0</td>\n",
       "      <td>0.0</td>\n",
       "      <td>0.0</td>\n",
       "      <td>0.0</td>\n",
       "      <td>0.0</td>\n",
       "      <td>0.0</td>\n",
       "      <td>64.0</td>\n",
       "    </tr>\n",
       "    <tr>\n",
       "      <td>9997</td>\n",
       "      <td>9997</td>\n",
       "      <td>34.0</td>\n",
       "      <td>1.0</td>\n",
       "      <td>1250.0</td>\n",
       "      <td>1.0</td>\n",
       "      <td>1.0</td>\n",
       "      <td>0.0</td>\n",
       "      <td>0.0</td>\n",
       "      <td>0.0</td>\n",
       "      <td>0.0</td>\n",
       "      <td>0.0</td>\n",
       "      <td>58.0</td>\n",
       "    </tr>\n",
       "    <tr>\n",
       "      <td>9998</td>\n",
       "      <td>9998</td>\n",
       "      <td>33.0</td>\n",
       "      <td>3.0</td>\n",
       "      <td>1100.0</td>\n",
       "      <td>1.0</td>\n",
       "      <td>0.0</td>\n",
       "      <td>0.0</td>\n",
       "      <td>0.0</td>\n",
       "      <td>0.0</td>\n",
       "      <td>0.0</td>\n",
       "      <td>0.0</td>\n",
       "      <td>51.0</td>\n",
       "    </tr>\n",
       "    <tr>\n",
       "      <td>9999</td>\n",
       "      <td>9999</td>\n",
       "      <td>35.0</td>\n",
       "      <td>0.0</td>\n",
       "      <td>1450.0</td>\n",
       "      <td>1.0</td>\n",
       "      <td>0.0</td>\n",
       "      <td>0.0</td>\n",
       "      <td>0.0</td>\n",
       "      <td>0.0</td>\n",
       "      <td>0.0</td>\n",
       "      <td>0.0</td>\n",
       "      <td>59.0</td>\n",
       "    </tr>\n",
       "  </tbody>\n",
       "</table>\n",
       "<p>10000 rows × 12 columns</p>\n",
       "</div>"
      ],
      "text/plain": [
       "        Id   age  years_of_experience  lesson_price  qualification  physics  \\\n",
       "0        0  40.0                  0.0        1400.0            1.0      1.0   \n",
       "1        1  48.0                  4.0        2850.0            3.0      1.0   \n",
       "2        2  39.0                  0.0        1200.0            1.0      0.0   \n",
       "3        3  46.0                  5.0        1400.0            1.0      0.0   \n",
       "4        4  43.0                  1.0        1500.0            1.0      0.0   \n",
       "...    ...   ...                  ...           ...            ...      ...   \n",
       "9995  9995  44.0                  0.0        1700.0            2.0      1.0   \n",
       "9996  9996  51.0                  0.0        1700.0            2.0      0.0   \n",
       "9997  9997  34.0                  1.0        1250.0            1.0      1.0   \n",
       "9998  9998  33.0                  3.0        1100.0            1.0      0.0   \n",
       "9999  9999  35.0                  0.0        1450.0            1.0      0.0   \n",
       "\n",
       "      chemistry  biology  english  geography  history  mean_exam_points  \n",
       "0           0.0      0.0      0.0        1.0      0.0              63.0  \n",
       "1           0.0      0.0      0.0        0.0      0.0              86.0  \n",
       "2           0.0      0.0      0.0        0.0      0.0              53.0  \n",
       "3           0.0      0.0      0.0        0.0      0.0              56.0  \n",
       "4           0.0      0.0      0.0        0.0      0.0              59.0  \n",
       "...         ...      ...      ...        ...      ...               ...  \n",
       "9995        1.0      0.0      0.0        0.0      0.0              78.0  \n",
       "9996        0.0      0.0      0.0        0.0      0.0              64.0  \n",
       "9997        0.0      0.0      0.0        0.0      0.0              58.0  \n",
       "9998        0.0      0.0      0.0        0.0      0.0              51.0  \n",
       "9999        0.0      0.0      0.0        0.0      0.0              59.0  \n",
       "\n",
       "[10000 rows x 12 columns]"
      ]
     },
     "execution_count": 19,
     "metadata": {},
     "output_type": "execute_result"
    }
   ],
   "source": [
    "X_y_train"
   ]
  },
  {
   "cell_type": "markdown",
   "metadata": {},
   "source": [
    "- Заворачиваем класс в переменную"
   ]
  },
  {
   "cell_type": "code",
   "execution_count": 20,
   "metadata": {},
   "outputs": [],
   "source": [
    "preprocessing = Preprocessing()"
   ]
  },
  {
   "cell_type": "markdown",
   "metadata": {},
   "source": [
    "1) $H_0$ = Возрастные группы репетиторов коррелируют со средней оценкой.<br>\n",
    "$H_1 < 0 < H_1$\n",
    "\n",
    "- Разобьем __возраста__ на категории"
   ]
  },
  {
   "cell_type": "code",
   "execution_count": 21,
   "metadata": {
    "scrolled": false
   },
   "outputs": [
    {
     "name": "stdout",
     "output_type": "stream",
     "text": [
      "qualification          75.60\n",
      "lesson_price           72.12\n",
      "years_of_experience    20.54\n",
      "physics                18.77\n",
      "biology                 2.30\n",
      "chemistry               1.78\n",
      "geography               1.44\n",
      "english                 1.32\n",
      "history                -0.01\n",
      "age                    -0.76\n",
      "age_groups             -1.78\n",
      "Name: mean_exam_points, dtype: float64\n"
     ]
    },
    {
     "data": {
      "image/png": "[encoded data removed]",
      "text/plain": [
       "<Figure size 864x288 with 1 Axes>"
      ]
     },
     "metadata": {
      "needs_background": "light"
     },
     "output_type": "display_data"
    }
   ],
   "source": [
    "X_y_train = preprocessing.age_groups(X_y_train)\n",
    "\n",
    "correlation()"
   ]
  },
  {
   "cell_type": "markdown",
   "metadata": {},
   "source": [
    "$H_1 =$ Методом подбора удалось объединить __возраста__  в котегории, которые коррелируют со средней оценкой<br>\n",
    "$H_0 = H_1$\n",
    "\n",
    "2) $H_0 =$ __Мультипредметность__ репетитора коррелирует со средней оценкой.<br>\n",
    "$H_1 < 0 < H_1$"
   ]
  },
  {
   "cell_type": "code",
   "execution_count": 22,
   "metadata": {},
   "outputs": [
    {
     "name": "stdout",
     "output_type": "stream",
     "text": [
      "qualification          75.60\n",
      "lesson_price           72.12\n",
      "years_of_experience    20.54\n",
      "physics                18.77\n",
      "multidisciplinary      14.67\n",
      "biology                 2.30\n",
      "chemistry               1.78\n",
      "geography               1.44\n",
      "english                 1.32\n",
      "history                -0.01\n",
      "age                    -0.76\n",
      "age_groups             -1.78\n",
      "Name: mean_exam_points, dtype: float64\n"
     ]
    },
    {
     "data": {
      "image/png": "[encoded data removed]",
      "text/plain": [
       "<Figure size 864x288 with 1 Axes>"
      ]
     },
     "metadata": {
      "needs_background": "light"
     },
     "output_type": "display_data"
    }
   ],
   "source": [
    "X_y_train = preprocessing.multidisciplinary(X_y_train)\n",
    "\n",
    "correlation()"
   ]
  },
  {
   "cell_type": "markdown",
   "metadata": {},
   "source": [
    "$H_1 = $ __мультипредметность__ репетитора коррелирует со средней оценкой<br>\n",
    "$H_0 = H_1$\n",
    "\n",
    "3) $H_0 =$ __Отсутствие специализации__ у репетитора коррелирует со средней оценкой.<br>\n",
    "$H_1 < 0 < H_1$"
   ]
  },
  {
   "cell_type": "code",
   "execution_count": 23,
   "metadata": {
    "scrolled": false
   },
   "outputs": [
    {
     "name": "stdout",
     "output_type": "stream",
     "text": [
      "qualification          75.60\n",
      "lesson_price           72.12\n",
      "years_of_experience    20.54\n",
      "physics                18.77\n",
      "multidisciplinary      14.67\n",
      "biology                 2.30\n",
      "chemistry               1.78\n",
      "geography               1.44\n",
      "english                 1.32\n",
      "history                -0.01\n",
      "age                    -0.76\n",
      "age_groups             -1.78\n",
      "zero_disciplinary     -15.32\n",
      "Name: mean_exam_points, dtype: float64\n"
     ]
    },
    {
     "data": {
      "image/png": "[encoded data removed]",
      "text/plain": [
       "<Figure size 864x288 with 1 Axes>"
      ]
     },
     "metadata": {
      "needs_background": "light"
     },
     "output_type": "display_data"
    }
   ],
   "source": [
    "X_y_train = preprocessing.zero_disciplinary(X_y_train)\n",
    "\n",
    "correlation()"
   ]
  },
  {
   "cell_type": "markdown",
   "metadata": {},
   "source": [
    "$H_1 = $ __Отсутствие специализации__ коррелирует со средней оценкой<br>\n",
    "$H_0 = H_1$\n",
    "\n",
    "4) $H_0 =$ __цена за уровень квалификации__ коррелирует со средней оценкой.<br>\n",
    "$H_1 < 0 < H_1$"
   ]
  },
  {
   "cell_type": "code",
   "execution_count": 24,
   "metadata": {
    "scrolled": false
   },
   "outputs": [
    {
     "name": "stdout",
     "output_type": "stream",
     "text": [
      "qualification              75.60\n",
      "lesson_price               72.12\n",
      "years_of_experience        20.54\n",
      "physics                    18.77\n",
      "multidisciplinary          14.67\n",
      "biology                     2.30\n",
      "chemistry                   1.78\n",
      "geography                   1.44\n",
      "english                     1.32\n",
      "history                    -0.01\n",
      "age                        -0.76\n",
      "age_groups                 -1.78\n",
      "zero_disciplinary         -15.32\n",
      "price_per_qualification   -44.50\n",
      "Name: mean_exam_points, dtype: float64\n"
     ]
    },
    {
     "data": {
      "image/png": "[encoded data removed]",
      "text/plain": [
       "<Figure size 864x288 with 1 Axes>"
      ]
     },
     "metadata": {
      "needs_background": "light"
     },
     "output_type": "display_data"
    }
   ],
   "source": [
    "X_y_train = preprocessing.price_per_qualification(X_y_train)\n",
    "\n",
    "correlation()"
   ]
  },
  {
   "cell_type": "markdown",
   "metadata": {},
   "source": [
    "$H_1 = $ __цена за уровень квалификации__ коррелирует со средней оценкой<br>\n",
    "$H_0 = H_1$\n",
    "\n",
    "5) $H_0 =$ __коеффициент специализации__ коррелирует со средней оценкой.<br>\n",
    "$H_1 < 0 < H_1$"
   ]
  },
  {
   "cell_type": "code",
   "execution_count": 25,
   "metadata": {},
   "outputs": [
    {
     "name": "stdout",
     "output_type": "stream",
     "text": [
      "qualification              75.60\n",
      "lesson_price               72.12\n",
      "coef_of_cpecialize         41.67\n",
      "years_of_experience        20.54\n",
      "physics                    18.77\n",
      "multidisciplinary          14.67\n",
      "biology                     2.30\n",
      "chemistry                   1.78\n",
      "geography                   1.44\n",
      "english                     1.32\n",
      "history                    -0.01\n",
      "age                        -0.76\n",
      "age_groups                 -1.78\n",
      "zero_disciplinary         -15.32\n",
      "price_per_qualification   -44.50\n",
      "Name: mean_exam_points, dtype: float64\n"
     ]
    },
    {
     "data": {
      "image/png": "[encoded data removed]",
      "text/plain": [
       "<Figure size 864x288 with 1 Axes>"
      ]
     },
     "metadata": {
      "needs_background": "light"
     },
     "output_type": "display_data"
    }
   ],
   "source": [
    "X_y_train = preprocessing.coef_of_cpecialize(X_y_train)\n",
    "\n",
    "correlation()"
   ]
  },
  {
   "cell_type": "markdown",
   "metadata": {},
   "source": [
    "$H_0 =$ __коеффициент специализации__ коррелирует со средней оценкой.<br>\n",
    "$H_0 = H_1$"
   ]
  },
  {
   "cell_type": "markdown",
   "metadata": {},
   "source": [
    "##### Понижение размерности\n",
    "\n",
    "- Методом подбора снизим размерность матрицы по неоднозначным фичам"
   ]
  },
  {
   "cell_type": "code",
   "execution_count": 26,
   "metadata": {},
   "outputs": [
    {
     "name": "stdout",
     "output_type": "stream",
     "text": [
      "qualification              75.60\n",
      "lesson_price               72.12\n",
      "coef_of_cpecialize         41.67\n",
      "years_of_experience        20.54\n",
      "multidisciplinary          14.67\n",
      "history                    -0.01\n",
      "age                        -0.76\n",
      "age_groups                 -1.78\n",
      "zero_disciplinary         -15.32\n",
      "price_per_qualification   -44.50\n",
      "Name: mean_exam_points, dtype: float64\n"
     ]
    },
    {
     "data": {
      "image/png": "[encoded data removed]",
      "text/plain": [
       "<Figure size 864x288 with 1 Axes>"
      ]
     },
     "metadata": {
      "needs_background": "light"
     },
     "output_type": "display_data"
    }
   ],
   "source": [
    "X_y_train = preprocessing.dimensionality(X_y_train)\n",
    "\n",
    "correlation()"
   ]
  },
  {
   "cell_type": "markdown",
   "metadata": {},
   "source": [
    "##### Обучение модели\n",
    "- Переводим поле Id в индексы"
   ]
  },
  {
   "cell_type": "code",
   "execution_count": 27,
   "metadata": {},
   "outputs": [],
   "source": [
    "X_y_train.set_index('Id', inplace=True)\n",
    "X_final.set_index('Id', inplace=True)"
   ]
  },
  {
   "cell_type": "markdown",
   "metadata": {},
   "source": [
    "- __Делим__ X_y_train на X и y"
   ]
  },
  {
   "cell_type": "code",
   "execution_count": 28,
   "metadata": {},
   "outputs": [],
   "source": [
    "X = X_y_train.drop('mean_exam_points', axis=1)\n",
    "y = X_y_train['mean_exam_points']"
   ]
  },
  {
   "cell_type": "markdown",
   "metadata": {},
   "source": [
    "- Отбираем из выборок X и y по 20%"
   ]
  },
  {
   "cell_type": "code",
   "execution_count": 29,
   "metadata": {},
   "outputs": [],
   "source": [
    "X_train, X_test, y_train, y_test = train_test_split(X, y, test_size=0.2, random_state=42)"
   ]
  },
  {
   "cell_type": "markdown",
   "metadata": {},
   "source": [
    "- Составим функции для __MSE, RMSE, MAE__ "
   ]
  },
  {
   "cell_type": "code",
   "execution_count": 30,
   "metadata": {},
   "outputs": [],
   "source": [
    "def mse(y, y_pred):\n",
    "    '''сраднеквадратичная ошибка'''\n",
    "    return np.mean((y - y_pred)**2)\n",
    "\n",
    "def rmse(y, y_pred):\n",
    "    \n",
    "    return (np.mean((y - y_pred)**2))**(1/2)\n",
    "\n",
    "def mae(y, y_pred):\n",
    "    \n",
    "    return np.mean(np.abs(y - y_pred))"
   ]
  },
  {
   "cell_type": "markdown",
   "metadata": {},
   "source": [
    "- Составим класс для обучения линейной модели"
   ]
  },
  {
   "cell_type": "code",
   "execution_count": 31,
   "metadata": {},
   "outputs": [],
   "source": [
    "class LinearRegression:\n",
    "    \n",
    "    def __init__(self, alpha: float, iters: int, criterion='mse', rand_range=None, tol=None,):\n",
    "        '''предустановки'''\n",
    "        self.alpha = alpha\n",
    "        self.iters = iters\n",
    "        self.criterion = criterion\n",
    "        self.rand_range = rand_range\n",
    "        self.tol = tol\n",
    "        self.W = None\n",
    "        \n",
    "    def fit(self, X, y):\n",
    "        '''обучение'''\n",
    "        X = X.T\n",
    "        \n",
    "        if self.rand_range != None:\n",
    "            np.random.seed(self.rand_range)\n",
    "            \n",
    "        self.W = np.random.randn(X.shape[0])\n",
    "        \n",
    "        error_history = []\n",
    "        \n",
    "        if self.criterion == 'mse':\n",
    "            error = mse  \n",
    "        if self.criterion == 'rmse':\n",
    "            error = rmse   \n",
    "        if self.criterion == 'mae':\n",
    "            error = mae\n",
    "        \n",
    "        for i in range(self.iters):\n",
    "            y_pred = self.W @ X\n",
    "            \n",
    "            calc_error = error(y, y_pred)\n",
    "\n",
    "            self.W -= 2 * self.alpha * np.sum(X * (y_pred - y), axis=1) / len(y_pred)\n",
    "\n",
    "            error_history.append(calc_error)\n",
    "\n",
    "            if i > 2 and np.abs(calc_error - error_history[-2]) < self.tol:\n",
    "                break\n",
    "        \n",
    "        return error_history, i+1\n",
    "    \n",
    "    def predict(self, X):\n",
    "        '''предсказание'''\n",
    "        \n",
    "        y_pred = self.W @ X.T\n",
    "        \n",
    "        return y_pred"
   ]
  },
  {
   "cell_type": "markdown",
   "metadata": {},
   "source": [
    "- Введем гиперпараметры класса"
   ]
  },
  {
   "cell_type": "code",
   "execution_count": 32,
   "metadata": {},
   "outputs": [],
   "source": [
    "linear_model = LinearRegression(\n",
    "    alpha=1e-7, \n",
    "    iters=200, \n",
    "    rand_range=42, \n",
    "    tol=1e-2,\n",
    "    criterion='mse'\n",
    ")"
   ]
  },
  {
   "cell_type": "markdown",
   "metadata": {},
   "source": [
    "- __обучим__ модель и завернем результаты в переменные"
   ]
  },
  {
   "cell_type": "code",
   "execution_count": 33,
   "metadata": {},
   "outputs": [],
   "source": [
    "errors, iteration = linear_model.fit(X=X_train, y=y_train)"
   ]
  },
  {
   "cell_type": "markdown",
   "metadata": {},
   "source": [
    "- просмотрим прошедшее количество __итераций__"
   ]
  },
  {
   "cell_type": "code",
   "execution_count": 34,
   "metadata": {},
   "outputs": [
    {
     "data": {
      "text/plain": [
       "185"
      ]
     },
     "execution_count": 34,
     "metadata": {},
     "output_type": "execute_result"
    }
   ],
   "source": [
    "iteration"
   ]
  },
  {
   "cell_type": "markdown",
   "metadata": {},
   "source": [
    "- Просмотрим последнии 5 __ошибок__ и нарисуем график ошибок"
   ]
  },
  {
   "cell_type": "code",
   "execution_count": 35,
   "metadata": {},
   "outputs": [
    {
     "name": "stdout",
     "output_type": "stream",
     "text": [
      "[102.72720579004209, 102.71533667054798, 102.7043092110666, 102.69406363890474, 102.68454442628531]\n"
     ]
    },
    {
     "data": {
      "image/png": "[encoded data removed]",
      "text/plain": [
       "<Figure size 432x288 with 1 Axes>"
      ]
     },
     "metadata": {
      "needs_background": "light"
     },
     "output_type": "display_data"
    }
   ],
   "source": [
    "print(errors[-5:])\n",
    "\n",
    "plt.plot(errors)\n",
    "plt.show()"
   ]
  },
  {
   "cell_type": "markdown",
   "metadata": {},
   "source": [
    "##### Предсказание результатов\n",
    "\n",
    "- Попробуем предсказать результаты на __трейновой__ выборке"
   ]
  },
  {
   "cell_type": "code",
   "execution_count": 36,
   "metadata": {},
   "outputs": [
    {
     "data": {
      "text/plain": [
       "Id\n",
       "9254    54.314611\n",
       "1561    61.262408\n",
       "1670    59.574677\n",
       "6087    53.716602\n",
       "6669    58.075010\n",
       "          ...    \n",
       "5734    93.857560\n",
       "5191    78.224372\n",
       "5390    57.254346\n",
       "860     48.648003\n",
       "7270    50.590134\n",
       "Length: 8000, dtype: float64"
      ]
     },
     "execution_count": 36,
     "metadata": {},
     "output_type": "execute_result"
    }
   ],
   "source": [
    "y_train_pred = linear_model.predict(X_train)\n",
    "y_train_pred"
   ]
  },
  {
   "cell_type": "markdown",
   "metadata": {},
   "source": [
    "- Просмотрим __реальные показатели__ на трейне"
   ]
  },
  {
   "cell_type": "code",
   "execution_count": 37,
   "metadata": {},
   "outputs": [
    {
     "data": {
      "text/plain": [
       "Id\n",
       "9254    60.0\n",
       "1561    64.0\n",
       "1670    40.0\n",
       "6087    53.0\n",
       "6669    61.0\n",
       "        ... \n",
       "5734    94.0\n",
       "5191    89.0\n",
       "5390    69.0\n",
       "860     48.0\n",
       "7270    66.0\n",
       "Name: mean_exam_points, Length: 8000, dtype: float64"
      ]
     },
     "execution_count": 37,
     "metadata": {},
     "output_type": "execute_result"
    }
   ],
   "source": [
    "y_train"
   ]
  },
  {
   "cell_type": "markdown",
   "metadata": {},
   "source": [
    "- Сосставим функцию для подсчета квадратичного откланения и просмотрим сводные данные по нем"
   ]
  },
  {
   "cell_type": "code",
   "execution_count": 38,
   "metadata": {},
   "outputs": [],
   "source": [
    "def std_desc(try_, pred):\n",
    "    \n",
    "    std = (((try_ - pred)**2)**(1/2))\n",
    "    \n",
    "    print(f'Наименьшее отклонение\\t- {std.min()}\\n'\n",
    "          f'Среднее отклонение\\t- {std.mean()}\\n'\n",
    "          f'Наибольшее отклонение\\t- {std.max()}\\n')"
   ]
  },
  {
   "cell_type": "code",
   "execution_count": 39,
   "metadata": {},
   "outputs": [
    {
     "name": "stdout",
     "output_type": "stream",
     "text": [
      "Наименьшее отклонение\t- 0.002124547158302903\n",
      "Среднее отклонение\t- 8.003953734345599\n",
      "Наибольшее отклонение\t- 39.53761289271388\n",
      "\n"
     ]
    }
   ],
   "source": [
    "std_desc(y_train, y_train_pred)"
   ]
  },
  {
   "cell_type": "markdown",
   "metadata": {},
   "source": [
    "- Теперь на __тестовой__"
   ]
  },
  {
   "cell_type": "code",
   "execution_count": 40,
   "metadata": {},
   "outputs": [
    {
     "data": {
      "text/plain": [
       "Id\n",
       "6252    59.304837\n",
       "4684    48.613779\n",
       "1731    62.439361\n",
       "4742    76.321306\n",
       "4521    91.029301\n",
       "          ...    \n",
       "6412    47.238444\n",
       "8285    50.000072\n",
       "7853    78.851880\n",
       "1095    81.255423\n",
       "6929    48.778975\n",
       "Length: 2000, dtype: float64"
      ]
     },
     "execution_count": 40,
     "metadata": {},
     "output_type": "execute_result"
    }
   ],
   "source": [
    "y_test_pred = linear_model.predict(X_test)\n",
    "y_test_pred"
   ]
  },
  {
   "cell_type": "markdown",
   "metadata": {},
   "source": [
    "- Просмотрим __реальные показатели__ на тесте"
   ]
  },
  {
   "cell_type": "code",
   "execution_count": 41,
   "metadata": {},
   "outputs": [
    {
     "data": {
      "text/plain": [
       "Id\n",
       "6252    40.0\n",
       "4684    66.0\n",
       "1731    65.0\n",
       "4742    80.0\n",
       "4521    79.0\n",
       "        ... \n",
       "6412    66.0\n",
       "8285    63.0\n",
       "7853    71.0\n",
       "1095    85.0\n",
       "6929    61.0\n",
       "Name: mean_exam_points, Length: 2000, dtype: float64"
      ]
     },
     "execution_count": 41,
     "metadata": {},
     "output_type": "execute_result"
    }
   ],
   "source": [
    "y_test"
   ]
  },
  {
   "cell_type": "code",
   "execution_count": 42,
   "metadata": {},
   "outputs": [
    {
     "name": "stdout",
     "output_type": "stream",
     "text": [
      "Наименьшее отклонение\t- 0.03341535395708206\n",
      "Среднее отклонение\t- 7.889991663214445\n",
      "Наибольшее отклонение\t- 38.703887200421775\n",
      "\n"
     ]
    }
   ],
   "source": [
    "std_desc(y_test, y_test_pred)"
   ]
  },
  {
   "cell_type": "markdown",
   "metadata": {},
   "source": [
    "##### Предсказание значений для финальной выборки\n",
    "\n",
    "- Модифицируем финальный датасет"
   ]
  },
  {
   "cell_type": "code",
   "execution_count": 43,
   "metadata": {},
   "outputs": [],
   "source": [
    "X_final = preprocessing.pipline(X_final)"
   ]
  },
  {
   "cell_type": "markdown",
   "metadata": {},
   "source": [
    "- Предскажем __среднии оценки__ на финальном датасете"
   ]
  },
  {
   "cell_type": "code",
   "execution_count": 44,
   "metadata": {},
   "outputs": [
    {
     "data": {
      "text/plain": [
       "Id\n",
       "10000    48.133940\n",
       "10001    64.502657\n",
       "10002    62.300492\n",
       "10003    98.737676\n",
       "10004    97.487361\n",
       "           ...    \n",
       "19995    55.003356\n",
       "19996    80.378145\n",
       "19997    41.335291\n",
       "19998    65.222093\n",
       "19999    72.406394\n",
       "Length: 10000, dtype: float64"
      ]
     },
     "execution_count": 44,
     "metadata": {},
     "output_type": "execute_result"
    }
   ],
   "source": [
    "y_final_pred = linear_model.predict(X_final)\n",
    "y_final_pred"
   ]
  },
  {
   "cell_type": "code",
   "execution_count": 53,
   "metadata": {},
   "outputs": [
    {
     "data": {
      "text/html": [
       "<div>\n",
       "<style scoped>\n",
       "    .dataframe tbody tr th:only-of-type {\n",
       "        vertical-align: middle;\n",
       "    }\n",
       "\n",
       "    .dataframe tbody tr th {\n",
       "        vertical-align: top;\n",
       "    }\n",
       "\n",
       "    .dataframe thead th {\n",
       "        text-align: right;\n",
       "    }\n",
       "</style>\n",
       "<table border=\"1\" class=\"dataframe\">\n",
       "  <thead>\n",
       "    <tr style=\"text-align: right;\">\n",
       "      <th></th>\n",
       "      <th>Id</th>\n",
       "      <th>mean_exam_points</th>\n",
       "    </tr>\n",
       "  </thead>\n",
       "  <tbody>\n",
       "    <tr>\n",
       "      <td>0</td>\n",
       "      <td>10000</td>\n",
       "      <td>48.133940</td>\n",
       "    </tr>\n",
       "    <tr>\n",
       "      <td>1</td>\n",
       "      <td>10001</td>\n",
       "      <td>64.502657</td>\n",
       "    </tr>\n",
       "    <tr>\n",
       "      <td>2</td>\n",
       "      <td>10002</td>\n",
       "      <td>62.300492</td>\n",
       "    </tr>\n",
       "    <tr>\n",
       "      <td>3</td>\n",
       "      <td>10003</td>\n",
       "      <td>98.737676</td>\n",
       "    </tr>\n",
       "    <tr>\n",
       "      <td>4</td>\n",
       "      <td>10004</td>\n",
       "      <td>97.487361</td>\n",
       "    </tr>\n",
       "    <tr>\n",
       "      <td>...</td>\n",
       "      <td>...</td>\n",
       "      <td>...</td>\n",
       "    </tr>\n",
       "    <tr>\n",
       "      <td>9995</td>\n",
       "      <td>19995</td>\n",
       "      <td>55.003356</td>\n",
       "    </tr>\n",
       "    <tr>\n",
       "      <td>9996</td>\n",
       "      <td>19996</td>\n",
       "      <td>80.378145</td>\n",
       "    </tr>\n",
       "    <tr>\n",
       "      <td>9997</td>\n",
       "      <td>19997</td>\n",
       "      <td>41.335291</td>\n",
       "    </tr>\n",
       "    <tr>\n",
       "      <td>9998</td>\n",
       "      <td>19998</td>\n",
       "      <td>65.222093</td>\n",
       "    </tr>\n",
       "    <tr>\n",
       "      <td>9999</td>\n",
       "      <td>19999</td>\n",
       "      <td>72.406394</td>\n",
       "    </tr>\n",
       "  </tbody>\n",
       "</table>\n",
       "<p>10000 rows × 2 columns</p>\n",
       "</div>"
      ],
      "text/plain": [
       "         Id  mean_exam_points\n",
       "0     10000         48.133940\n",
       "1     10001         64.502657\n",
       "2     10002         62.300492\n",
       "3     10003         98.737676\n",
       "4     10004         97.487361\n",
       "...     ...               ...\n",
       "9995  19995         55.003356\n",
       "9996  19996         80.378145\n",
       "9997  19997         41.335291\n",
       "9998  19998         65.222093\n",
       "9999  19999         72.406394\n",
       "\n",
       "[10000 rows x 2 columns]"
      ]
     },
     "execution_count": 53,
     "metadata": {},
     "output_type": "execute_result"
    }
   ],
   "source": [
    "pred_final = pd.DataFrame(y_final_pred, columns=['mean_exam_points'])\n",
    "pred_final.to_csv('prediction.csv', index=True)\n",
    "pd.read_csv('prediction.csv')"
   ]
  }
 ],
 "metadata": {
  "kernelspec": {
   "display_name": "Python 3",
   "language": "python",
   "name": "python3"
  },
  "language_info": {
   "codemirror_mode": {
    "name": "ipython",
    "version": 3
   },
   "file_extension": ".py",
   "mimetype": "text/x-python",
   "name": "python",
   "nbconvert_exporter": "python",
   "pygments_lexer": "ipython3",
   "version": "3.7.4"
  }
 },
 "nbformat": 4,
 "nbformat_minor": 2
}
